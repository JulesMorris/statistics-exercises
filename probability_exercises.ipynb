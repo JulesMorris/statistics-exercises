{
 "cells": [
  {
   "cell_type": "code",
   "execution_count": 1,
   "id": "64139f82",
   "metadata": {},
   "outputs": [],
   "source": [
    "import matplotlib.pyplot as plt\n",
    "import numpy as np\n",
    "from scipy import stats"
   ]
  },
  {
   "cell_type": "code",
   "execution_count": 7,
   "id": "55d0e03c",
   "metadata": {},
   "outputs": [
    {
     "data": {
      "text/plain": [
       "([<matplotlib.axis.XTick at 0x7fa69024b040>,\n",
       "  <matplotlib.axis.XTick at 0x7fa69024b1f0>,\n",
       "  <matplotlib.axis.XTick at 0x7fa690245e80>,\n",
       "  <matplotlib.axis.XTick at 0x7fa6902ed0d0>,\n",
       "  <matplotlib.axis.XTick at 0x7fa6902ed820>,\n",
       "  <matplotlib.axis.XTick at 0x7fa6902ef040>,\n",
       "  <matplotlib.axis.XTick at 0x7fa6902ef700>,\n",
       "  <matplotlib.axis.XTick at 0x7fa6902edaf0>,\n",
       "  <matplotlib.axis.XTick at 0x7fa6902ef760>,\n",
       "  <matplotlib.axis.XTick at 0x7fa6902f61f0>],\n",
       " [Text(0, 0, ''),\n",
       "  Text(0, 0, ''),\n",
       "  Text(0, 0, ''),\n",
       "  Text(0, 0, ''),\n",
       "  Text(0, 0, ''),\n",
       "  Text(0, 0, ''),\n",
       "  Text(0, 0, ''),\n",
       "  Text(0, 0, ''),\n",
       "  Text(0, 0, ''),\n",
       "  Text(0, 0, '')])"
      ]
     },
     "execution_count": 7,
     "metadata": {},
     "output_type": "execute_result"
    },
    {
     "data": {
      "image/png": "[encoded data removed]",
      "text/plain": [
       "<Figure size 432x288 with 1 Axes>"
      ]
     },
     "metadata": {
      "needs_background": "light"
     },
     "output_type": "display_data"
    }
   ],
   "source": [
    "# 1) A bank found that the average number of cars waiting during the noon hour at a drive-up window follows a \n",
    "# Poisson distribution with a mean of 2 cars. Make a chart of this distribution and answer these questions \n",
    "# concerning the probability of cars waiting at the drive-up window.\n",
    "\n",
    "λ = 2\n",
    "\n",
    "x = np.arange(0 , 10, 1)\n",
    "y = stats.poisson(λ).pmf(x) #pmf used because seeking prob of single outcome\n",
    "\n",
    "plt.bar(x, y)\n",
    "plt.xticks(np.arange(0, 10, 1)) #had to include because was only showing values by 2's\n"
   ]
  },
  {
   "cell_type": "code",
   "execution_count": 8,
   "id": "ba68ffd2",
   "metadata": {},
   "outputs": [
    {
     "data": {
      "text/plain": [
       "0.1353352832366127"
      ]
     },
     "execution_count": 8,
     "metadata": {},
     "output_type": "execute_result"
    }
   ],
   "source": [
    "  # What is the probability that no cars drive up in the noon hour?\n",
    "\n",
    "stats.poisson(λ).pmf(0) #pmf used bc seeking probability of single outcome"
   ]
  },
  {
   "cell_type": "code",
   "execution_count": 10,
   "id": "93fd4b36",
   "metadata": {},
   "outputs": [
    {
     "data": {
      "text/plain": [
       "0.32332358381693654"
      ]
     },
     "execution_count": 10,
     "metadata": {},
     "output_type": "execute_result"
    }
   ],
   "source": [
    "  # What is the probability that 3 or more cars come through the drive through? \n",
    "    \n",
    "stats.poisson(λ).sf(2) #use number - 1 here bc its prob of random variable falling above certain value"
   ]
  },
  {
   "cell_type": "code",
   "execution_count": 12,
   "id": "4f9507e2",
   "metadata": {},
   "outputs": [
    {
     "data": {
      "text/plain": [
       "0.3233235838169366"
      ]
     },
     "execution_count": 12,
     "metadata": {},
     "output_type": "execute_result"
    }
   ],
   "source": [
    "#alternatively cdf can be used with same value:\n",
    "\n",
    "1 - stats.poisson(λ).cdf(2)"
   ]
  },
  {
   "cell_type": "code",
   "execution_count": 16,
   "id": "8e1e742a",
   "metadata": {},
   "outputs": [
    {
     "data": {
      "text/plain": [
       "0.8646647167633873"
      ]
     },
     "execution_count": 16,
     "metadata": {},
     "output_type": "execute_result"
    }
   ],
   "source": [
    "  # How likely is it that the drive through gets at least 1 car? \n",
    "    \n",
    "1 - stats.poisson(λ).pmf(0)     #why am I doing 1 - the distribution here? b/c you're adding up all the bars(likelihood) excluding through 1"
   ]
  },
  {
   "cell_type": "code",
   "execution_count": 29,
   "id": "e776b182",
   "metadata": {},
   "outputs": [
    {
     "data": {
      "text/plain": [
       "0.1353352832366127"
      ]
     },
     "execution_count": 29,
     "metadata": {},
     "output_type": "execute_result"
    }
   ],
   "source": [
    "stats.poisson(λ).pmf(0) #represents the 0% probability that at least 1 car will come through, to exclude that \n",
    "# to answer the question, it's 1 - distribution... 1 - 0.1353352832366127 = 0.8646647167633873"
   ]
  },
  {
   "cell_type": "code",
   "execution_count": 31,
   "id": "5b02c42f",
   "metadata": {},
   "outputs": [
    {
     "data": {
      "text/plain": [
       "0.8646647167633873"
      ]
     },
     "execution_count": 31,
     "metadata": {},
     "output_type": "execute_result"
    }
   ],
   "source": [
    "#alternative\n",
    "stats.poisson(λ).sf(0) "
   ]
  },
  {
   "cell_type": "code",
   "execution_count": null,
   "id": "6314a833",
   "metadata": {},
   "outputs": [],
   "source": [
    "# Grades of State University graduates are normally distributed with a mean of 3.0 and a standard deviation of \n",
    "# .3. Calculate the following:\n",
    "\n",
    "# stats.norm(mean, std) bc normal distribution    "
   ]
  },
  {
   "cell_type": "code",
   "execution_count": 17,
   "id": "161e71f3",
   "metadata": {},
   "outputs": [
    {
     "data": {
      "text/plain": [
       "3.4934560880854417"
      ]
     },
     "execution_count": 17,
     "metadata": {},
     "output_type": "execute_result"
    }
   ],
   "source": [
    "# What grade point average is required to be in the top 5% of the graduating class?\n",
    "\n",
    "stats.norm(3, .3).isf(0.05)"
   ]
  },
  {
   "cell_type": "code",
   "execution_count": 18,
   "id": "2c35603a",
   "metadata": {},
   "outputs": [
    {
     "data": {
      "text/plain": [
       "2.689069983151863"
      ]
     },
     "execution_count": 18,
     "metadata": {},
     "output_type": "execute_result"
    }
   ],
   "source": [
    "# What GPA constitutes the bottom 15% of the class?\n",
    "stats.norm(3, 0.3).ppf(.15)"
   ]
  },
  {
   "cell_type": "code",
   "execution_count": 20,
   "id": "cb1dc236",
   "metadata": {},
   "outputs": [
    {
     "data": {
      "text/plain": [
       "array([2.74751363, 2.84267985])"
      ]
     },
     "execution_count": 20,
     "metadata": {},
     "output_type": "execute_result"
    }
   ],
   "source": [
    "# An eccentric alumnus left scholarship money for students in the third decile from the bottom of their class.\n",
    "#Decile means sorting data 10 equal parts, so third decile would be from 20 - 30 %? 1st = 0-10%, 2nd = 10-20%\n",
    "stats.norm(3, 0.3).ppf([0.2, 0.3])    \n",
    "    "
   ]
  },
  {
   "cell_type": "code",
   "execution_count": 23,
   "id": "dbf6f452",
   "metadata": {},
   "outputs": [
    {
     "data": {
      "text/plain": [
       "95.22096477271853"
      ]
     },
     "execution_count": 23,
     "metadata": {},
     "output_type": "execute_result"
    }
   ],
   "source": [
    "# If I have a GPA of 3.5, what percentile am I in?\n",
    "stats.norm(3, 0.3).cdf(3.5)\n",
    "stats.norm(3, 0.3).cdf(3.5) * 100 #95th percentile"
   ]
  },
  {
   "cell_type": "code",
   "execution_count": 24,
   "id": "68bce550",
   "metadata": {},
   "outputs": [
    {
     "data": {
      "text/plain": [
       "0.13975823631416445"
      ]
     },
     "execution_count": 24,
     "metadata": {},
     "output_type": "execute_result"
    }
   ],
   "source": [
    "#A marketing website has an average click-through rate of 2%. One day they observe 4326 visitors and 97 \n",
    "# click-throughs. How likely is it that this many people or more click through?\n",
    "\n",
    "#A binomial distribution is defined by a number of trials, and a probability of success.\n",
    "\n",
    "n = 4326 #number of visitors (trials)\n",
    "p = 0.02 # avg click rate, (probability)\n",
    "stats.binom(n, p).sf(96) #97 - 1 \"or more\" is crucial, sf is not inclusive, so to get 97, must subtract 1"
   ]
  },
  {
   "cell_type": "code",
   "execution_count": 30,
   "id": "e9d59dea",
   "metadata": {},
   "outputs": [
    {
     "data": {
      "text/plain": [
       "0.45284335760923855"
      ]
     },
     "execution_count": 30,
     "metadata": {},
     "output_type": "execute_result"
    }
   ],
   "source": [
    "# You are working on some statistics homework consisting of 100 questions where all of the answers are a \n",
    "# probability rounded to the hundreths place. Looking to save time, you put down random probabilities as \n",
    "# the answer to each question.\n",
    "\n",
    "    #What is the probability that at least one of your first 60 answers is correct?\n",
    "    \n",
    "n = 60 #number of questions out of 100 being examined\n",
    "p = 0.01 \n",
    "\n",
    "stats.binom(n, p).sf(0) "
   ]
  },
  {
   "cell_type": "code",
   "execution_count": null,
   "id": "f317b1a4",
   "metadata": {},
   "outputs": [],
   "source": [
    "# The codeup staff tends to get upset when the student break area is not cleaned up. Suppose that there's a 3% \n",
    "# chance that any one student cleans the break area when they visit it, and, on any given day, about 90% of \n",
    "# the 3 active cohorts of 22 students visit the break area. How likely is it that the break area gets cleaned \n",
    "# up each day? How likely is it that it goes two days without getting cleaned up? All week?"
   ]
  },
  {
   "cell_type": "code",
   "execution_count": 32,
   "id": "fd048301",
   "metadata": {},
   "outputs": [
    {
     "data": {
      "text/plain": [
       "0.8362274861228872"
      ]
     },
     "execution_count": 32,
     "metadata": {},
     "output_type": "execute_result"
    }
   ],
   "source": [
    "#How likely is it that the break area gets cleaned up each day?\n",
    "\n",
    "n = .9 * 3 * 22\n",
    "p = 0.03\n",
    "\n",
    "stats.binom(n, p).sf(0)"
   ]
  },
  {
   "cell_type": "code",
   "execution_count": 33,
   "id": "8559037e",
   "metadata": {},
   "outputs": [
    {
     "data": {
      "text/plain": [
       "0.024027435762619623"
      ]
     },
     "execution_count": 33,
     "metadata": {},
     "output_type": "execute_result"
    }
   ],
   "source": [
    "#How likely is it that the break area gets cleaned up each day? L & V\n",
    "stats.binom(n, p).pmf(5)"
   ]
  },
  {
   "cell_type": "code",
   "execution_count": 34,
   "id": "c35bd626",
   "metadata": {},
   "outputs": [
    {
     "name": "stdout",
     "output_type": "stream",
     "text": [
      "Object `up` not found.\n"
     ]
    },
    {
     "data": {
      "text/plain": [
       "0.026821436301628983"
      ]
     },
     "execution_count": 34,
     "metadata": {},
     "output_type": "execute_result"
    }
   ],
   "source": [
    "# How likely is it that it goes two days without getting cleaned up?\n",
    "\n",
    "stats.binom(n * 2, p).pmf(0)"
   ]
  },
  {
   "cell_type": "code",
   "execution_count": 35,
   "id": "437673a6",
   "metadata": {},
   "outputs": [
    {
     "data": {
      "text/plain": [
       "0.00011781621791055051"
      ]
     },
     "execution_count": 35,
     "metadata": {},
     "output_type": "execute_result"
    }
   ],
   "source": [
    "# All week?\n",
    "stats.binom(n * 5, p).pmf(0)"
   ]
  },
  {
   "cell_type": "code",
   "execution_count": 36,
   "id": "5462149a",
   "metadata": {},
   "outputs": [
    {
     "data": {
      "text/plain": [
       "0.00011781621791051577"
      ]
     },
     "execution_count": 36,
     "metadata": {},
     "output_type": "execute_result"
    }
   ],
   "source": [
    "#alternatively\n",
    "\n",
    "1 - stats.binom(n * 5, p).sf(0)"
   ]
  },
  {
   "cell_type": "code",
   "execution_count": null,
   "id": "fcb9e8b5",
   "metadata": {},
   "outputs": [],
   "source": []
  }
 ],
 "metadata": {
  "kernelspec": {
   "display_name": "Python 3 (ipykernel)",
   "language": "python",
   "name": "python3"
  },
  "language_info": {
   "codemirror_mode": {
    "name": "ipython",
    "version": 3
   },
   "file_extension": ".py",
   "mimetype": "text/x-python",
   "name": "python",
   "nbconvert_exporter": "python",
   "pygments_lexer": "ipython3",
   "version": "3.9.7"
  }
 },
 "nbformat": 4,
 "nbformat_minor": 5
}
