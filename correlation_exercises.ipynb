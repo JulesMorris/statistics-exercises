{
 "cells": [
  {
   "cell_type": "code",
   "execution_count": 91,
   "id": "f2ac18ca",
   "metadata": {},
   "outputs": [],
   "source": [
    "import numpy as np\n",
    "import seaborn as sns\n",
    "import scipy.stats as stats\n",
    "import pandas as pd\n",
    "import matplotlib.pyplot as plt\n",
    "import env\n",
    "from pydataset import data"
   ]
  },
  {
   "cell_type": "markdown",
   "id": "b9fb4056",
   "metadata": {},
   "source": [
    "# Use the telco_churn data. Does tenure correlate with monthly charges? Total charges? What happens if you control for phone and internet service?"
   ]
  },
  {
   "cell_type": "code",
   "execution_count": 59,
   "id": "33ddf7f6",
   "metadata": {},
   "outputs": [],
   "source": [
    "#Load dataset and explore"
   ]
  },
  {
   "cell_type": "code",
   "execution_count": 60,
   "id": "61c38dd7",
   "metadata": {},
   "outputs": [
    {
     "data": {
      "text/html": [
       "<div>\n",
       "<style scoped>\n",
       "    .dataframe tbody tr th:only-of-type {\n",
       "        vertical-align: middle;\n",
       "    }\n",
       "\n",
       "    .dataframe tbody tr th {\n",
       "        vertical-align: top;\n",
       "    }\n",
       "\n",
       "    .dataframe thead th {\n",
       "        text-align: right;\n",
       "    }\n",
       "</style>\n",
       "<table border=\"1\" class=\"dataframe\">\n",
       "  <thead>\n",
       "    <tr style=\"text-align: right;\">\n",
       "      <th></th>\n",
       "      <th>customerID</th>\n",
       "      <th>gender</th>\n",
       "      <th>SeniorCitizen</th>\n",
       "      <th>Partner</th>\n",
       "      <th>Dependents</th>\n",
       "      <th>tenure</th>\n",
       "      <th>PhoneService</th>\n",
       "      <th>MultipleLines</th>\n",
       "      <th>InternetService</th>\n",
       "      <th>OnlineSecurity</th>\n",
       "      <th>...</th>\n",
       "      <th>DeviceProtection</th>\n",
       "      <th>TechSupport</th>\n",
       "      <th>StreamingTV</th>\n",
       "      <th>StreamingMovies</th>\n",
       "      <th>Contract</th>\n",
       "      <th>PaperlessBilling</th>\n",
       "      <th>PaymentMethod</th>\n",
       "      <th>MonthlyCharges</th>\n",
       "      <th>TotalCharges</th>\n",
       "      <th>Churn</th>\n",
       "    </tr>\n",
       "  </thead>\n",
       "  <tbody>\n",
       "    <tr>\n",
       "      <th>0</th>\n",
       "      <td>7590-VHVEG</td>\n",
       "      <td>Female</td>\n",
       "      <td>0</td>\n",
       "      <td>Yes</td>\n",
       "      <td>No</td>\n",
       "      <td>1</td>\n",
       "      <td>No</td>\n",
       "      <td>No phone service</td>\n",
       "      <td>DSL</td>\n",
       "      <td>No</td>\n",
       "      <td>...</td>\n",
       "      <td>No</td>\n",
       "      <td>No</td>\n",
       "      <td>No</td>\n",
       "      <td>No</td>\n",
       "      <td>Month-to-month</td>\n",
       "      <td>Yes</td>\n",
       "      <td>Electronic check</td>\n",
       "      <td>29.85</td>\n",
       "      <td>29.85</td>\n",
       "      <td>No</td>\n",
       "    </tr>\n",
       "    <tr>\n",
       "      <th>1</th>\n",
       "      <td>5575-GNVDE</td>\n",
       "      <td>Male</td>\n",
       "      <td>0</td>\n",
       "      <td>No</td>\n",
       "      <td>No</td>\n",
       "      <td>34</td>\n",
       "      <td>Yes</td>\n",
       "      <td>No</td>\n",
       "      <td>DSL</td>\n",
       "      <td>Yes</td>\n",
       "      <td>...</td>\n",
       "      <td>Yes</td>\n",
       "      <td>No</td>\n",
       "      <td>No</td>\n",
       "      <td>No</td>\n",
       "      <td>One year</td>\n",
       "      <td>No</td>\n",
       "      <td>Mailed check</td>\n",
       "      <td>56.95</td>\n",
       "      <td>1889.50</td>\n",
       "      <td>No</td>\n",
       "    </tr>\n",
       "    <tr>\n",
       "      <th>2</th>\n",
       "      <td>3668-QPYBK</td>\n",
       "      <td>Male</td>\n",
       "      <td>0</td>\n",
       "      <td>No</td>\n",
       "      <td>No</td>\n",
       "      <td>2</td>\n",
       "      <td>Yes</td>\n",
       "      <td>No</td>\n",
       "      <td>DSL</td>\n",
       "      <td>Yes</td>\n",
       "      <td>...</td>\n",
       "      <td>No</td>\n",
       "      <td>No</td>\n",
       "      <td>No</td>\n",
       "      <td>No</td>\n",
       "      <td>Month-to-month</td>\n",
       "      <td>Yes</td>\n",
       "      <td>Mailed check</td>\n",
       "      <td>53.85</td>\n",
       "      <td>108.15</td>\n",
       "      <td>Yes</td>\n",
       "    </tr>\n",
       "    <tr>\n",
       "      <th>3</th>\n",
       "      <td>7795-CFOCW</td>\n",
       "      <td>Male</td>\n",
       "      <td>0</td>\n",
       "      <td>No</td>\n",
       "      <td>No</td>\n",
       "      <td>45</td>\n",
       "      <td>No</td>\n",
       "      <td>No phone service</td>\n",
       "      <td>DSL</td>\n",
       "      <td>Yes</td>\n",
       "      <td>...</td>\n",
       "      <td>Yes</td>\n",
       "      <td>Yes</td>\n",
       "      <td>No</td>\n",
       "      <td>No</td>\n",
       "      <td>One year</td>\n",
       "      <td>No</td>\n",
       "      <td>Bank transfer (automatic)</td>\n",
       "      <td>42.30</td>\n",
       "      <td>1840.75</td>\n",
       "      <td>No</td>\n",
       "    </tr>\n",
       "    <tr>\n",
       "      <th>4</th>\n",
       "      <td>9237-HQITU</td>\n",
       "      <td>Female</td>\n",
       "      <td>0</td>\n",
       "      <td>No</td>\n",
       "      <td>No</td>\n",
       "      <td>2</td>\n",
       "      <td>Yes</td>\n",
       "      <td>No</td>\n",
       "      <td>Fiber optic</td>\n",
       "      <td>No</td>\n",
       "      <td>...</td>\n",
       "      <td>No</td>\n",
       "      <td>No</td>\n",
       "      <td>No</td>\n",
       "      <td>No</td>\n",
       "      <td>Month-to-month</td>\n",
       "      <td>Yes</td>\n",
       "      <td>Electronic check</td>\n",
       "      <td>70.70</td>\n",
       "      <td>151.65</td>\n",
       "      <td>Yes</td>\n",
       "    </tr>\n",
       "  </tbody>\n",
       "</table>\n",
       "<p>5 rows × 21 columns</p>\n",
       "</div>"
      ],
      "text/plain": [
       "   customerID  gender  SeniorCitizen Partner Dependents  tenure PhoneService  \\\n",
       "0  7590-VHVEG  Female              0     Yes         No       1           No   \n",
       "1  5575-GNVDE    Male              0      No         No      34          Yes   \n",
       "2  3668-QPYBK    Male              0      No         No       2          Yes   \n",
       "3  7795-CFOCW    Male              0      No         No      45           No   \n",
       "4  9237-HQITU  Female              0      No         No       2          Yes   \n",
       "\n",
       "      MultipleLines InternetService OnlineSecurity  ... DeviceProtection  \\\n",
       "0  No phone service             DSL             No  ...               No   \n",
       "1                No             DSL            Yes  ...              Yes   \n",
       "2                No             DSL            Yes  ...               No   \n",
       "3  No phone service             DSL            Yes  ...              Yes   \n",
       "4                No     Fiber optic             No  ...               No   \n",
       "\n",
       "  TechSupport StreamingTV StreamingMovies        Contract PaperlessBilling  \\\n",
       "0          No          No              No  Month-to-month              Yes   \n",
       "1          No          No              No        One year               No   \n",
       "2          No          No              No  Month-to-month              Yes   \n",
       "3         Yes          No              No        One year               No   \n",
       "4          No          No              No  Month-to-month              Yes   \n",
       "\n",
       "               PaymentMethod MonthlyCharges  TotalCharges  Churn  \n",
       "0           Electronic check          29.85         29.85     No  \n",
       "1               Mailed check          56.95       1889.50     No  \n",
       "2               Mailed check          53.85        108.15    Yes  \n",
       "3  Bank transfer (automatic)          42.30       1840.75     No  \n",
       "4           Electronic check          70.70        151.65    Yes  \n",
       "\n",
       "[5 rows x 21 columns]"
      ]
     },
     "execution_count": 60,
     "metadata": {},
     "output_type": "execute_result"
    }
   ],
   "source": [
    "df = pd.read_csv('telco_churn.csv')\n",
    "df.head()"
   ]
  },
  {
   "cell_type": "code",
   "execution_count": 4,
   "id": "819964cc",
   "metadata": {},
   "outputs": [
    {
     "name": "stdout",
     "output_type": "stream",
     "text": [
      "<class 'pandas.core.frame.DataFrame'>\n",
      "RangeIndex: 7043 entries, 0 to 7042\n",
      "Data columns (total 21 columns):\n",
      " #   Column            Non-Null Count  Dtype  \n",
      "---  ------            --------------  -----  \n",
      " 0   customerID        7043 non-null   object \n",
      " 1   gender            7043 non-null   object \n",
      " 2   SeniorCitizen     7043 non-null   int64  \n",
      " 3   Partner           7043 non-null   object \n",
      " 4   Dependents        7043 non-null   object \n",
      " 5   tenure            7043 non-null   int64  \n",
      " 6   PhoneService      7043 non-null   object \n",
      " 7   MultipleLines     7043 non-null   object \n",
      " 8   InternetService   7043 non-null   object \n",
      " 9   OnlineSecurity    7043 non-null   object \n",
      " 10  OnlineBackup      7043 non-null   object \n",
      " 11  DeviceProtection  7043 non-null   object \n",
      " 12  TechSupport       7043 non-null   object \n",
      " 13  StreamingTV       7043 non-null   object \n",
      " 14  StreamingMovies   7043 non-null   object \n",
      " 15  Contract          7043 non-null   object \n",
      " 16  PaperlessBilling  7043 non-null   object \n",
      " 17  PaymentMethod     7043 non-null   object \n",
      " 18  MonthlyCharges    7043 non-null   float64\n",
      " 19  TotalCharges      7032 non-null   float64\n",
      " 20  Churn             7043 non-null   object \n",
      "dtypes: float64(2), int64(2), object(17)\n",
      "memory usage: 1.1+ MB\n"
     ]
    }
   ],
   "source": [
    "df.info()"
   ]
  },
  {
   "cell_type": "code",
   "execution_count": 5,
   "id": "c0a0e82f",
   "metadata": {},
   "outputs": [
    {
     "data": {
      "text/plain": [
       "customerID           0\n",
       "gender               0\n",
       "SeniorCitizen        0\n",
       "Partner              0\n",
       "Dependents           0\n",
       "tenure               0\n",
       "PhoneService         0\n",
       "MultipleLines        0\n",
       "InternetService      0\n",
       "OnlineSecurity       0\n",
       "OnlineBackup         0\n",
       "DeviceProtection     0\n",
       "TechSupport          0\n",
       "StreamingTV          0\n",
       "StreamingMovies      0\n",
       "Contract             0\n",
       "PaperlessBilling     0\n",
       "PaymentMethod        0\n",
       "MonthlyCharges       0\n",
       "TotalCharges        11\n",
       "Churn                0\n",
       "dtype: int64"
      ]
     },
     "execution_count": 5,
     "metadata": {},
     "output_type": "execute_result"
    }
   ],
   "source": [
    "#look at null values, 11 of them in TotalCharges, so drop nulls\n",
    "df.isna().sum()"
   ]
  },
  {
   "cell_type": "code",
   "execution_count": 6,
   "id": "530b8dba",
   "metadata": {},
   "outputs": [],
   "source": [
    "df = df.dropna()"
   ]
  },
  {
   "cell_type": "code",
   "execution_count": 7,
   "id": "6bf0fadf",
   "metadata": {
    "scrolled": true
   },
   "outputs": [
    {
     "data": {
      "text/plain": [
       "<AxesSubplot:xlabel='tenure', ylabel='MonthlyCharges'>"
      ]
     },
     "execution_count": 7,
     "metadata": {},
     "output_type": "execute_result"
    },
    {
     "data": {
      "image/png": "[encoded data removed]",
      "text/plain": [
       "<Figure size 432x288 with 1 Axes>"
      ]
     },
     "metadata": {
      "needs_background": "light"
     },
     "output_type": "display_data"
    }
   ],
   "source": [
    "df.plot.scatter(y = 'MonthlyCharges', x = 'tenure')"
   ]
  },
  {
   "cell_type": "markdown",
   "id": "587a2bb2",
   "metadata": {},
   "source": [
    "- $\\alpha = .05$\n",
    "- $H_0$: There is no linear relationship between tenure and MonthlyCharges. (Pearson-r JUST cares about linearity)\n",
    "- $H_a$: There is a linear relationship between tenure and MonthlyCharges."
   ]
  },
  {
   "cell_type": "code",
   "execution_count": 8,
   "id": "9202a13d",
   "metadata": {},
   "outputs": [
    {
     "name": "stdout",
     "output_type": "stream",
     "text": [
      " Pearson is 0.247 and p-value at 0.000\n"
     ]
    }
   ],
   "source": [
    "#how does tenure correlate w/ monthly charges?\n",
    "x = df.tenure\n",
    "y = df.MonthlyCharges\n",
    "\n",
    "r, p = stats.pearsonr(x , y)\n",
    "print(f' Pearson is {r:.3f} and p-value at {p:.3f}') #since p is less than alpha, reject null"
   ]
  },
  {
   "cell_type": "markdown",
   "id": "ef868255",
   "metadata": {},
   "source": [
    "- $\\alpha = .05$\n",
    "- $H_0$: There is no linear relationship between tenure and TotalCharges. (Pearson-r JUST cares about linearity)\n",
    "- $H_a$: There is a linear relationship between tenure and TotalCharges."
   ]
  },
  {
   "cell_type": "code",
   "execution_count": 9,
   "id": "5be2e4c5",
   "metadata": {},
   "outputs": [
    {
     "name": "stdout",
     "output_type": "stream",
     "text": [
      "Pearson is 0.826 and p-value  is 0.000\n"
     ]
    }
   ],
   "source": [
    "#how does tenure correlate w/ total charges?\n",
    "x = df.tenure\n",
    "y = df.TotalCharges\n",
    "\n",
    "r, p = stats.pearsonr(x , y)\n",
    "print(f'Pearson is {r:.3f} and p-value  is {p:.3f}') #since p is less than alpha, reject null"
   ]
  },
  {
   "cell_type": "markdown",
   "id": "db4683d7",
   "metadata": {},
   "source": [
    "- $\\alpha = .05$\n",
    "- $H_0$: There is no linear relationship between phone service tenure and MonthlyCharges. (Pearson-r JUST cares about linearity)\n",
    "- $H_a$: There is a linear relationship between phone tenure and MonthlyCharges."
   ]
  },
  {
   "cell_type": "code",
   "execution_count": 61,
   "id": "c2b3e6da",
   "metadata": {},
   "outputs": [],
   "source": [
    "#What happens if you control for phone and internet?\n",
    "# make new dfs for control measures\n",
    "\n",
    "#subset tenure and PhoneService by Yes and No\n",
    "\n",
    "x_phone_tenure = df['tenure'][df['PhoneService'] == 'Yes']\n",
    "x_phone_total = df['TotalCharges'][df['PhoneService'] == 'Yes']\n",
    "y_phone_monthly = df['MonthlyCharges'][df['PhoneService'] == 'Yes']\n",
    "\n",
    "x_no_phone_tenure = df['tenure'][df['PhoneService'] == 'No']\n",
    "x_no_phone_total = df['TotalCharges'][df['PhoneService'] == 'No']\n",
    "y_no_phone_monthly = df['MonthlyCharges'][df['PhoneService'] == 'No']"
   ]
  },
  {
   "cell_type": "code",
   "execution_count": 17,
   "id": "74b74ef0",
   "metadata": {},
   "outputs": [
    {
     "name": "stdout",
     "output_type": "stream",
     "text": [
      " Pearson is 0.244 and p-value is 0.000\n"
     ]
    }
   ],
   "source": [
    "#get Pearson r of phone tenure for Yes\n",
    "\n",
    "r, p = stats.pearsonr(x_phone_tenure, y_phone_monthly)\n",
    "print(f' Pearson is {r:.3f} and p-value is {p:.3f}') #since p-value lower than alpha, reject null"
   ]
  },
  {
   "cell_type": "markdown",
   "id": "66174303",
   "metadata": {},
   "source": [
    "- $\\alpha = .05$\n",
    "- $H_0$: There is no linear relationship between phone total and MonthlyCharges. (Pearson-r JUST cares about linearity)\n",
    "- $H_a$: There is a linear relationship between phone total and MonthlyCharges."
   ]
  },
  {
   "cell_type": "code",
   "execution_count": 18,
   "id": "aa9a33b3",
   "metadata": {},
   "outputs": [
    {
     "name": "stdout",
     "output_type": "stream",
     "text": [
      "Pearson is 0.646 and p-value is 0.000\n"
     ]
    }
   ],
   "source": [
    "#tenure vs TotalCharges\n",
    "\n",
    "r, p = stats.pearsonr(x_phone_total, y_phone_monthly)\n",
    "print(f'Pearson is {r:.3f} and p-value is {p:.3f}') #since p-value is lower than alpha, reject null"
   ]
  },
  {
   "cell_type": "markdown",
   "id": "ee946ae0",
   "metadata": {},
   "source": [
    "- $\\alpha = .05$\n",
    "- $H_0$: There is no linear relationship between tenure of customers without phone service and MonthlyCharges. (Pearson-r JUST cares about linearity)\n",
    "- $H_a$: There is a linear relationship between tenure of customers without phone service and MonthlyCharges."
   ]
  },
  {
   "cell_type": "code",
   "execution_count": 19,
   "id": "3ef21cd0",
   "metadata": {},
   "outputs": [
    {
     "name": "stdout",
     "output_type": "stream",
     "text": [
      "Pearson is 0.592 and p-value is 0.000\n"
     ]
    }
   ],
   "source": [
    "#no phone tenure vs no phone MonthlyCharges\n",
    "\n",
    "r, p = stats.pearsonr(x_no_phone_tenure, y_no_phone_monthly)\n",
    "print(f'Pearson is {r:.3f} and p-value is {p:.3f}') #since p-value is less than alpha, reject null"
   ]
  },
  {
   "cell_type": "markdown",
   "id": "f7cd5d29",
   "metadata": {},
   "source": [
    "- $\\alpha = .05$\n",
    "- $H_0$: There is no linear relationship between the total charges of customers without phone service and MonthlyCharges. (Pearson-r JUST cares about linearity)\n",
    "- $H_a$: There is a linear relationship between the total charges of customers without phone service and MonthlyCharges."
   ]
  },
  {
   "cell_type": "code",
   "execution_count": 20,
   "id": "bb2b7316",
   "metadata": {},
   "outputs": [
    {
     "name": "stdout",
     "output_type": "stream",
     "text": [
      "Pearson is 0.747 and p-value is 0.000\n"
     ]
    }
   ],
   "source": [
    "#no phone total vs no phone MonthlyCharges\n",
    "\n",
    "r, p = stats.pearsonr(x_no_phone_total, y_no_phone_monthly)\n",
    "print(f'Pearson is {r:.3f} and p-value is {p:.3f}') #since p-value is less than alpha, reject null"
   ]
  },
  {
   "cell_type": "markdown",
   "id": "d0e58e53",
   "metadata": {},
   "source": [
    "- $\\alpha = .05$\n",
    "- $H_0$: There is no linear relationship between DSL internet service and MonthlyCharges. (Pearson-r JUST cares about linearity)\n",
    "- $H_a$: There is a linear relationship between DSL internet service and and MonthlyCharges."
   ]
  },
  {
   "cell_type": "code",
   "execution_count": 66,
   "id": "ebbed74e",
   "metadata": {},
   "outputs": [],
   "source": [
    "#internet service subsetting DSL\n",
    "\n",
    "x_dsl_tenure = df['tenure'][df['InternetService'] == 'DSL']\n",
    "x_dsl_total = df['TotalCharges'][df['InternetService'] == 'DSL']\n",
    "y_dsl_monthly = df['MonthlyCharges'][df['InternetService'] == 'DSL']\n"
   ]
  },
  {
   "cell_type": "code",
   "execution_count": 37,
   "id": "63353577",
   "metadata": {},
   "outputs": [],
   "source": [
    "#internet service subsetting Fiber Optic\n",
    "x_fo_tenure = df['tenure'][df['InternetService'] == 'Fiber optic']\n",
    "x_fo_total = df['TotalCharges'][df['InternetService'] == 'Fiber optic']\n",
    "y_fo_monthly = df['TotalCharges'][df['InternetService'] == 'Fiber optic']"
   ]
  },
  {
   "cell_type": "code",
   "execution_count": 24,
   "id": "f5efe795",
   "metadata": {},
   "outputs": [],
   "source": [
    "#internet subsetting, No internet Service\n",
    "\n",
    "x_no_is_tenure = df['tenure'][df['InternetService'] == 'No']\n",
    "x_no_is_total = df['TotalCharges'][df['InternetService'] == 'No']\n",
    "y_no_is_monthly = df['MonthlyCharges'][df['InternetService'] == 'No']"
   ]
  },
  {
   "cell_type": "code",
   "execution_count": 26,
   "id": "44de5863",
   "metadata": {},
   "outputs": [
    {
     "name": "stdout",
     "output_type": "stream",
     "text": [
      "Pearson is 0.520 and p-value is 0.000\n"
     ]
    }
   ],
   "source": [
    "#DSL tenure and monthly charges\n",
    "\n",
    "r, p = stats.pearsonr(x_dsl_tenure, y_dsl_monthly)\n",
    "print(f'Pearson is {r:.3f} and p-value is {p:.3f}') #p-value lower than alpha, reject the null\n",
    "#moderate positve correlation"
   ]
  },
  {
   "cell_type": "code",
   "execution_count": 27,
   "id": "cd8de0b4",
   "metadata": {},
   "outputs": [
    {
     "name": "stdout",
     "output_type": "stream",
     "text": [
      "Pearson is 0.718 and p-value is 0.000\n"
     ]
    }
   ],
   "source": [
    "#DSL total versus monthly\n",
    "\n",
    "r, p = stats.pearsonr(x_dsl_total, y_dsl_monthly)\n",
    "print(f'Pearson is {r:.3f} and p-value is {p:.3f}') #p-value lower than alpha, reject null\n",
    "#strong positive correlation"
   ]
  },
  {
   "cell_type": "code",
   "execution_count": null,
   "id": "90b27b23",
   "metadata": {},
   "outputs": [],
   "source": [
    "#get fiber optic value counts bc was getting error, it's 'Fiber optic', not 'Fiber Optic' 小問題\n",
    "\n",
    "df[df['InternetService'] == 'Fiber optic'].value_counts().sum() #3096"
   ]
  },
  {
   "cell_type": "code",
   "execution_count": 44,
   "id": "8daec162",
   "metadata": {},
   "outputs": [
    {
     "name": "stdout",
     "output_type": "stream",
     "text": [
      "Pearson is 0.985 and p-value is 0.000\n"
     ]
    },
    {
     "data": {
      "text/plain": [
       "3096"
      ]
     },
     "execution_count": 44,
     "metadata": {},
     "output_type": "execute_result"
    }
   ],
   "source": [
    "#Fiber optic tenure versus monthly \n",
    "r, p = stats.pearsonr(x_fo_tenure, y_fo_monthly)\n",
    "print(f'Pearson is {r:.3f} and p-value is {p:.3f}') #reject null bc p-value lower than alpha\n",
    "#strong positive correlation"
   ]
  },
  {
   "cell_type": "code",
   "execution_count": 47,
   "id": "c1c3e83b",
   "metadata": {},
   "outputs": [
    {
     "name": "stdout",
     "output_type": "stream",
     "text": [
      "Pearson is 0.346 and p-value is 0.000\n"
     ]
    }
   ],
   "source": [
    "#no internet service tenure versus monthly\n",
    "\n",
    "r, p = stats.pearsonr(x_no_is_tenure, y_no_is_monthly)\n",
    "print(f'Pearson is {r:.3f} and p-value is {p:.3f}') #p-value lower than alpha, reject null\n",
    "#weak positive correlation"
   ]
  },
  {
   "cell_type": "code",
   "execution_count": 49,
   "id": "b617701d",
   "metadata": {},
   "outputs": [
    {
     "name": "stdout",
     "output_type": "stream",
     "text": [
      "Pearson is 0.484 and p-value is 0.000\n"
     ]
    }
   ],
   "source": [
    "#no internet service total v monthly\n",
    "r, p = stats.pearsonr(x_no_is_total, y_no_is_monthly)\n",
    "print(f'Pearson is {r:.3f} and p-value is {p:.3f}') #p-value lower than alpha, reject null\n",
    "\n",
    "#moderate positive correlation"
   ]
  },
  {
   "cell_type": "markdown",
   "id": "dfb94d71",
   "metadata": {},
   "source": [
    "Use the employees database.\n",
    "\n",
    "    Is there a relationship between how long an employee has been with the company and their salary?\n",
    "    Is there a relationship between how long an employee has been with the company and the number of titles they have had?\n"
   ]
  },
  {
   "cell_type": "code",
   "execution_count": null,
   "id": "c492800d",
   "metadata": {},
   "outputs": [],
   "source": [
    "# df['one_line'] = df[df.PhoneService]"
   ]
  },
  {
   "cell_type": "code",
   "execution_count": 75,
   "id": "d94b85cc",
   "metadata": {},
   "outputs": [
    {
     "data": {
      "text/html": [
       "<div>\n",
       "<style scoped>\n",
       "    .dataframe tbody tr th:only-of-type {\n",
       "        vertical-align: middle;\n",
       "    }\n",
       "\n",
       "    .dataframe tbody tr th {\n",
       "        vertical-align: top;\n",
       "    }\n",
       "\n",
       "    .dataframe thead th {\n",
       "        text-align: right;\n",
       "    }\n",
       "</style>\n",
       "<table border=\"1\" class=\"dataframe\">\n",
       "  <thead>\n",
       "    <tr style=\"text-align: right;\">\n",
       "      <th></th>\n",
       "      <th>customer_id</th>\n",
       "      <th>gender</th>\n",
       "      <th>senior_citizen</th>\n",
       "      <th>partner</th>\n",
       "      <th>dependents</th>\n",
       "      <th>tenure</th>\n",
       "      <th>phone_service</th>\n",
       "      <th>multiple_lines</th>\n",
       "      <th>internet_service_type_id</th>\n",
       "      <th>online_security</th>\n",
       "      <th>...</th>\n",
       "      <th>streaming_tv</th>\n",
       "      <th>streaming_movies</th>\n",
       "      <th>contract_type_id</th>\n",
       "      <th>paperless_billing</th>\n",
       "      <th>payment_type_id</th>\n",
       "      <th>monthly_charges</th>\n",
       "      <th>total_charges</th>\n",
       "      <th>churn</th>\n",
       "      <th>internet_service_type_id</th>\n",
       "      <th>internet_service_type</th>\n",
       "    </tr>\n",
       "  </thead>\n",
       "  <tbody>\n",
       "    <tr>\n",
       "      <th>0</th>\n",
       "      <td>0002-ORFBO</td>\n",
       "      <td>Female</td>\n",
       "      <td>0</td>\n",
       "      <td>Yes</td>\n",
       "      <td>Yes</td>\n",
       "      <td>9</td>\n",
       "      <td>Yes</td>\n",
       "      <td>No</td>\n",
       "      <td>1</td>\n",
       "      <td>No</td>\n",
       "      <td>...</td>\n",
       "      <td>Yes</td>\n",
       "      <td>No</td>\n",
       "      <td>2</td>\n",
       "      <td>Yes</td>\n",
       "      <td>2</td>\n",
       "      <td>65.6</td>\n",
       "      <td>593.3</td>\n",
       "      <td>No</td>\n",
       "      <td>3</td>\n",
       "      <td>None</td>\n",
       "    </tr>\n",
       "    <tr>\n",
       "      <th>1</th>\n",
       "      <td>0002-ORFBO</td>\n",
       "      <td>Female</td>\n",
       "      <td>0</td>\n",
       "      <td>Yes</td>\n",
       "      <td>Yes</td>\n",
       "      <td>9</td>\n",
       "      <td>Yes</td>\n",
       "      <td>No</td>\n",
       "      <td>1</td>\n",
       "      <td>No</td>\n",
       "      <td>...</td>\n",
       "      <td>Yes</td>\n",
       "      <td>No</td>\n",
       "      <td>2</td>\n",
       "      <td>Yes</td>\n",
       "      <td>2</td>\n",
       "      <td>65.6</td>\n",
       "      <td>593.3</td>\n",
       "      <td>No</td>\n",
       "      <td>2</td>\n",
       "      <td>Fiber optic</td>\n",
       "    </tr>\n",
       "    <tr>\n",
       "      <th>2</th>\n",
       "      <td>0002-ORFBO</td>\n",
       "      <td>Female</td>\n",
       "      <td>0</td>\n",
       "      <td>Yes</td>\n",
       "      <td>Yes</td>\n",
       "      <td>9</td>\n",
       "      <td>Yes</td>\n",
       "      <td>No</td>\n",
       "      <td>1</td>\n",
       "      <td>No</td>\n",
       "      <td>...</td>\n",
       "      <td>Yes</td>\n",
       "      <td>No</td>\n",
       "      <td>2</td>\n",
       "      <td>Yes</td>\n",
       "      <td>2</td>\n",
       "      <td>65.6</td>\n",
       "      <td>593.3</td>\n",
       "      <td>No</td>\n",
       "      <td>1</td>\n",
       "      <td>DSL</td>\n",
       "    </tr>\n",
       "    <tr>\n",
       "      <th>3</th>\n",
       "      <td>0003-MKNFE</td>\n",
       "      <td>Male</td>\n",
       "      <td>0</td>\n",
       "      <td>No</td>\n",
       "      <td>No</td>\n",
       "      <td>9</td>\n",
       "      <td>Yes</td>\n",
       "      <td>Yes</td>\n",
       "      <td>1</td>\n",
       "      <td>No</td>\n",
       "      <td>...</td>\n",
       "      <td>No</td>\n",
       "      <td>Yes</td>\n",
       "      <td>1</td>\n",
       "      <td>No</td>\n",
       "      <td>2</td>\n",
       "      <td>59.9</td>\n",
       "      <td>542.4</td>\n",
       "      <td>No</td>\n",
       "      <td>3</td>\n",
       "      <td>None</td>\n",
       "    </tr>\n",
       "    <tr>\n",
       "      <th>4</th>\n",
       "      <td>0003-MKNFE</td>\n",
       "      <td>Male</td>\n",
       "      <td>0</td>\n",
       "      <td>No</td>\n",
       "      <td>No</td>\n",
       "      <td>9</td>\n",
       "      <td>Yes</td>\n",
       "      <td>Yes</td>\n",
       "      <td>1</td>\n",
       "      <td>No</td>\n",
       "      <td>...</td>\n",
       "      <td>No</td>\n",
       "      <td>Yes</td>\n",
       "      <td>1</td>\n",
       "      <td>No</td>\n",
       "      <td>2</td>\n",
       "      <td>59.9</td>\n",
       "      <td>542.4</td>\n",
       "      <td>No</td>\n",
       "      <td>2</td>\n",
       "      <td>Fiber optic</td>\n",
       "    </tr>\n",
       "  </tbody>\n",
       "</table>\n",
       "<p>5 rows × 23 columns</p>\n",
       "</div>"
      ],
      "text/plain": [
       "  customer_id  gender  senior_citizen partner dependents  tenure  \\\n",
       "0  0002-ORFBO  Female               0     Yes        Yes       9   \n",
       "1  0002-ORFBO  Female               0     Yes        Yes       9   \n",
       "2  0002-ORFBO  Female               0     Yes        Yes       9   \n",
       "3  0003-MKNFE    Male               0      No         No       9   \n",
       "4  0003-MKNFE    Male               0      No         No       9   \n",
       "\n",
       "  phone_service multiple_lines  internet_service_type_id online_security  ...  \\\n",
       "0           Yes             No                         1              No  ...   \n",
       "1           Yes             No                         1              No  ...   \n",
       "2           Yes             No                         1              No  ...   \n",
       "3           Yes            Yes                         1              No  ...   \n",
       "4           Yes            Yes                         1              No  ...   \n",
       "\n",
       "  streaming_tv streaming_movies contract_type_id paperless_billing  \\\n",
       "0          Yes               No                2               Yes   \n",
       "1          Yes               No                2               Yes   \n",
       "2          Yes               No                2               Yes   \n",
       "3           No              Yes                1                No   \n",
       "4           No              Yes                1                No   \n",
       "\n",
       "  payment_type_id  monthly_charges total_charges  churn  \\\n",
       "0               2             65.6         593.3     No   \n",
       "1               2             65.6         593.3     No   \n",
       "2               2             65.6         593.3     No   \n",
       "3               2             59.9         542.4     No   \n",
       "4               2             59.9         542.4     No   \n",
       "\n",
       "   internet_service_type_id internet_service_type  \n",
       "0                         3                  None  \n",
       "1                         2           Fiber optic  \n",
       "2                         1                   DSL  \n",
       "3                         3                  None  \n",
       "4                         2           Fiber optic  \n",
       "\n",
       "[5 rows x 23 columns]"
      ]
     },
     "execution_count": 75,
     "metadata": {},
     "output_type": "execute_result"
    }
   ],
   "source": [
    "from env import get_db_url\n",
    "\n",
    "#alternative from review:\n",
    "\n",
    "url = get_db_url ('telco_churn')\n",
    "\n",
    "query = '''SELECT *\n",
    "FROM customers\n",
    "JOIN internet_service_types\n",
    "'''\n",
    "\n",
    "df = pd.read_sql(query, url)\n",
    "df.head()"
   ]
  },
  {
   "cell_type": "code",
   "execution_count": 76,
   "id": "242d2d65",
   "metadata": {},
   "outputs": [
    {
     "data": {
      "text/plain": [
       "Index(['customer_id', 'gender', 'senior_citizen', 'partner', 'dependents',\n",
       "       'tenure', 'phone_service', 'multiple_lines', 'internet_service_type_id',\n",
       "       'online_security', 'online_backup', 'device_protection', 'tech_support',\n",
       "       'streaming_tv', 'streaming_movies', 'contract_type_id',\n",
       "       'paperless_billing', 'payment_type_id', 'monthly_charges',\n",
       "       'total_charges', 'churn', 'internet_service_type_id',\n",
       "       'internet_service_type'],\n",
       "      dtype='object')"
      ]
     },
     "execution_count": 76,
     "metadata": {},
     "output_type": "execute_result"
    }
   ],
   "source": [
    "df.columns"
   ]
  },
  {
   "cell_type": "code",
   "execution_count": 78,
   "id": "19b023b7",
   "metadata": {},
   "outputs": [],
   "source": [
    "#subset into desired columns of interest:\n",
    "\n",
    "df = df[['tenure', 'monthly_charges', 'total_charges', 'internet_service_type', 'phone_service']]"
   ]
  },
  {
   "cell_type": "code",
   "execution_count": 79,
   "id": "15fcff51",
   "metadata": {},
   "outputs": [
    {
     "data": {
      "text/html": [
       "<div>\n",
       "<style scoped>\n",
       "    .dataframe tbody tr th:only-of-type {\n",
       "        vertical-align: middle;\n",
       "    }\n",
       "\n",
       "    .dataframe tbody tr th {\n",
       "        vertical-align: top;\n",
       "    }\n",
       "\n",
       "    .dataframe thead th {\n",
       "        text-align: right;\n",
       "    }\n",
       "</style>\n",
       "<table border=\"1\" class=\"dataframe\">\n",
       "  <thead>\n",
       "    <tr style=\"text-align: right;\">\n",
       "      <th></th>\n",
       "      <th>tenure</th>\n",
       "      <th>monthly_charges</th>\n",
       "      <th>total_charges</th>\n",
       "      <th>internet_service_type</th>\n",
       "      <th>phone_service</th>\n",
       "    </tr>\n",
       "  </thead>\n",
       "  <tbody>\n",
       "    <tr>\n",
       "      <th>6076</th>\n",
       "      <td>0</td>\n",
       "      <td>19.70</td>\n",
       "      <td></td>\n",
       "      <td>Fiber optic</td>\n",
       "      <td>Yes</td>\n",
       "    </tr>\n",
       "    <tr>\n",
       "      <th>5718</th>\n",
       "      <td>0</td>\n",
       "      <td>61.90</td>\n",
       "      <td></td>\n",
       "      <td>None</td>\n",
       "      <td>Yes</td>\n",
       "    </tr>\n",
       "    <tr>\n",
       "      <th>2837</th>\n",
       "      <td>0</td>\n",
       "      <td>56.05</td>\n",
       "      <td></td>\n",
       "      <td>DSL</td>\n",
       "      <td>No</td>\n",
       "    </tr>\n",
       "    <tr>\n",
       "      <th>2836</th>\n",
       "      <td>0</td>\n",
       "      <td>56.05</td>\n",
       "      <td></td>\n",
       "      <td>Fiber optic</td>\n",
       "      <td>No</td>\n",
       "    </tr>\n",
       "    <tr>\n",
       "      <th>2835</th>\n",
       "      <td>0</td>\n",
       "      <td>56.05</td>\n",
       "      <td></td>\n",
       "      <td>None</td>\n",
       "      <td>No</td>\n",
       "    </tr>\n",
       "  </tbody>\n",
       "</table>\n",
       "</div>"
      ],
      "text/plain": [
       "      tenure  monthly_charges total_charges internet_service_type  \\\n",
       "6076       0            19.70                         Fiber optic   \n",
       "5718       0            61.90                                None   \n",
       "2837       0            56.05                                 DSL   \n",
       "2836       0            56.05                         Fiber optic   \n",
       "2835       0            56.05                                None   \n",
       "\n",
       "     phone_service  \n",
       "6076           Yes  \n",
       "5718           Yes  \n",
       "2837            No  \n",
       "2836            No  \n",
       "2835            No  "
      ]
     },
     "execution_count": 79,
     "metadata": {},
     "output_type": "execute_result"
    }
   ],
   "source": [
    "df.sort_values(by = 'total_charges').head()"
   ]
  },
  {
   "cell_type": "code",
   "execution_count": 80,
   "id": "dcf062fd",
   "metadata": {},
   "outputs": [
    {
     "data": {
      "text/plain": [
       "           33\n",
       "20.2       33\n",
       "19.75      27\n",
       "19.9       24\n",
       "20.05      24\n",
       "           ..\n",
       "2387.75     3\n",
       "6302.8      3\n",
       "2058.5      3\n",
       "829.55      3\n",
       "3707.6      3\n",
       "Name: total_charges, Length: 6531, dtype: int64"
      ]
     },
     "execution_count": 80,
     "metadata": {},
     "output_type": "execute_result"
    }
   ],
   "source": [
    "df.total_charges.value_counts() #whitespace characters used as null values"
   ]
  },
  {
   "cell_type": "code",
   "execution_count": 81,
   "id": "2b9d2ebb",
   "metadata": {},
   "outputs": [],
   "source": [
    "df.total_charges = df.total_charges.replace(' ', np.nan).astype(float) #replacing whitespace with nan"
   ]
  },
  {
   "cell_type": "code",
   "execution_count": 83,
   "id": "b524a13f",
   "metadata": {},
   "outputs": [
    {
     "data": {
      "text/plain": [
       "tenure                    0\n",
       "monthly_charges           0\n",
       "total_charges            33\n",
       "internet_service_type     0\n",
       "phone_service             0\n",
       "dtype: int64"
      ]
     },
     "execution_count": 83,
     "metadata": {},
     "output_type": "execute_result"
    }
   ],
   "source": [
    "#check data for nulls\n",
    "df.isnull().sum() "
   ]
  },
  {
   "cell_type": "code",
   "execution_count": 84,
   "id": "0e24753a",
   "metadata": {},
   "outputs": [
    {
     "data": {
      "text/plain": [
       "tenure                   0\n",
       "monthly_charges          0\n",
       "total_charges            0\n",
       "internet_service_type    0\n",
       "phone_service            0\n",
       "dtype: int64"
      ]
     },
     "execution_count": 84,
     "metadata": {},
     "output_type": "execute_result"
    }
   ],
   "source": [
    "#drop (or fill w/mean or median) nulls\n",
    "df = df.dropna()\n",
    "df.isnull().sum() #nulls are gone now"
   ]
  },
  {
   "cell_type": "markdown",
   "id": "64305a74",
   "metadata": {},
   "source": [
    "- $\\alpha = .05$\n",
    "- $H_0$: There is no linear relationship between tenure and monthly charges.\n",
    "- $H_a$: There is a linear relationship between tenure and monthly charges."
   ]
  },
  {
   "cell_type": "code",
   "execution_count": 85,
   "id": "fb789345",
   "metadata": {},
   "outputs": [
    {
     "data": {
      "text/plain": [
       "<AxesSubplot:xlabel='tenure', ylabel='monthly_charges'>"
      ]
     },
     "execution_count": 85,
     "metadata": {},
     "output_type": "execute_result"
    },
    {
     "data": {
      "image/png": "[encoded data removed]",
      "text/plain": [
       "<Figure size 432x288 with 1 Axes>"
      ]
     },
     "metadata": {
      "needs_background": "light"
     },
     "output_type": "display_data"
    }
   ],
   "source": [
    "df.plot.scatter(y = 'monthly_charges', x = 'tenure')"
   ]
  },
  {
   "cell_type": "code",
   "execution_count": 87,
   "id": "b2d4c9c3",
   "metadata": {},
   "outputs": [
    {
     "name": "stdout",
     "output_type": "stream",
     "text": [
      " Pearson is 0.247 and p-value is 0.000\n"
     ]
    }
   ],
   "source": [
    "r, p = stats.pearsonr(df.tenure, df.monthly_charges)\n",
    "print(f' Pearson is {r:.3f} and p-value is {p:.3f}') #reject the null since p-value is less than alpha"
   ]
  },
  {
   "cell_type": "code",
   "execution_count": null,
   "id": "4d3f968a",
   "metadata": {},
   "outputs": [],
   "source": []
  },
  {
   "cell_type": "code",
   "execution_count": null,
   "id": "5df6efaf",
   "metadata": {},
   "outputs": [],
   "source": [
    "from env import get_db_url"
   ]
  },
  {
   "cell_type": "markdown",
   "id": "76645c13",
   "metadata": {},
   "source": [
    "Employees Analysis (Review)\n",
    "\n",
    "Use the employees database.\n",
    "\n",
    "    Is there a relationship between how long an employee has been with the company and their salary?\n",
    "    Is there a relationship between how long an employee has been with the company and the number of titles they have had?\n"
   ]
  },
  {
   "cell_type": "code",
   "execution_count": 93,
   "id": "e0b2c9ad",
   "metadata": {},
   "outputs": [],
   "source": [
    "query = \"\"\"\n",
    "SELECT \n",
    "    DATEDIFF((SELECT MAX(hire_date) FROM employees), e.hire_date) AS tenure,\n",
    "    s.salary AS salary\n",
    "FROM employees AS e\n",
    "JOIN salaries AS s USING(emp_no)\n",
    "WHERE s.to_date > NOW()\n",
    "\"\"\"\n",
    "\n",
    "url = get_db_url('employees')\n",
    "employees_with_salaries = pd.read_sql(query, url)"
   ]
  },
  {
   "cell_type": "code",
   "execution_count": 94,
   "id": "4a7bb8fb",
   "metadata": {},
   "outputs": [
    {
     "data": {
      "text/html": [
       "<div>\n",
       "<style scoped>\n",
       "    .dataframe tbody tr th:only-of-type {\n",
       "        vertical-align: middle;\n",
       "    }\n",
       "\n",
       "    .dataframe tbody tr th {\n",
       "        vertical-align: top;\n",
       "    }\n",
       "\n",
       "    .dataframe thead th {\n",
       "        text-align: right;\n",
       "    }\n",
       "</style>\n",
       "<table border=\"1\" class=\"dataframe\">\n",
       "  <thead>\n",
       "    <tr style=\"text-align: right;\">\n",
       "      <th></th>\n",
       "      <th>tenure</th>\n",
       "      <th>salary</th>\n",
       "    </tr>\n",
       "  </thead>\n",
       "  <tbody>\n",
       "    <tr>\n",
       "      <th>0</th>\n",
       "      <td>4964</td>\n",
       "      <td>88958</td>\n",
       "    </tr>\n",
       "    <tr>\n",
       "      <th>1</th>\n",
       "      <td>5181</td>\n",
       "      <td>72527</td>\n",
       "    </tr>\n",
       "    <tr>\n",
       "      <th>2</th>\n",
       "      <td>4901</td>\n",
       "      <td>43311</td>\n",
       "    </tr>\n",
       "    <tr>\n",
       "      <th>3</th>\n",
       "      <td>4806</td>\n",
       "      <td>74057</td>\n",
       "    </tr>\n",
       "    <tr>\n",
       "      <th>4</th>\n",
       "      <td>3790</td>\n",
       "      <td>94692</td>\n",
       "    </tr>\n",
       "    <tr>\n",
       "      <th>...</th>\n",
       "      <td>...</td>\n",
       "      <td>...</td>\n",
       "    </tr>\n",
       "    <tr>\n",
       "      <th>240119</th>\n",
       "      <td>2572</td>\n",
       "      <td>52868</td>\n",
       "    </tr>\n",
       "    <tr>\n",
       "      <th>240120</th>\n",
       "      <td>3410</td>\n",
       "      <td>69501</td>\n",
       "    </tr>\n",
       "    <tr>\n",
       "      <th>240121</th>\n",
       "      <td>5030</td>\n",
       "      <td>83441</td>\n",
       "    </tr>\n",
       "    <tr>\n",
       "      <th>240122</th>\n",
       "      <td>2298</td>\n",
       "      <td>55003</td>\n",
       "    </tr>\n",
       "    <tr>\n",
       "      <th>240123</th>\n",
       "      <td>789</td>\n",
       "      <td>77303</td>\n",
       "    </tr>\n",
       "  </tbody>\n",
       "</table>\n",
       "<p>240124 rows × 2 columns</p>\n",
       "</div>"
      ],
      "text/plain": [
       "        tenure  salary\n",
       "0         4964   88958\n",
       "1         5181   72527\n",
       "2         4901   43311\n",
       "3         4806   74057\n",
       "4         3790   94692\n",
       "...        ...     ...\n",
       "240119    2572   52868\n",
       "240120    3410   69501\n",
       "240121    5030   83441\n",
       "240122    2298   55003\n",
       "240123     789   77303\n",
       "\n",
       "[240124 rows x 2 columns]"
      ]
     },
     "execution_count": 94,
     "metadata": {},
     "output_type": "execute_result"
    }
   ],
   "source": [
    "employees_with_salaries"
   ]
  },
  {
   "cell_type": "code",
   "execution_count": 102,
   "id": "a58b268e",
   "metadata": {},
   "outputs": [
    {
     "name": "stdout",
     "output_type": "stream",
     "text": [
      " Pearson is 0.306 and p-value is 0.000\n"
     ]
    }
   ],
   "source": [
    "r, p = stats.pearsonr(employees_with_salaries.tenure, employees_with_salaries.salary)\n",
    "print(f' Pearson is {r:.3f} and p-value is {p:.3f}') #p-value < α, reject null\n",
    "#low positive correlation"
   ]
  },
  {
   "cell_type": "code",
   "execution_count": null,
   "id": "b42d5459",
   "metadata": {},
   "outputs": [],
   "source": []
  },
  {
   "cell_type": "markdown",
   "id": "b3520910",
   "metadata": {},
   "source": [
    "Use the sleepstudy data. Is there a relationship between days and reaction time?"
   ]
  },
  {
   "cell_type": "code",
   "execution_count": 99,
   "id": "3701e8f7",
   "metadata": {},
   "outputs": [
    {
     "name": "stdout",
     "output_type": "stream",
     "text": [
      "sleepstudy\n",
      "\n",
      "PyDataset Documentation (adopted from R Documentation. The displayed examples are in R)\n",
      "\n",
      "## Reaction times in a sleep deprivation study\n",
      "\n",
      "### Description\n",
      "\n",
      "The average reaction time per day for subjects in a sleep deprivation study.\n",
      "On day 0 the subjects had their normal amount of sleep. Starting that night\n",
      "they were restricted to 3 hours of sleep per night. The observations represent\n",
      "the average reaction time on a series of tests given each day to each subject.\n",
      "\n",
      "### Format\n",
      "\n",
      "A data frame with 180 observations on the following 3 variables.\n",
      "\n",
      "`Reaction`\n",
      "\n",
      "Average reaction time (ms)\n",
      "\n",
      "`Days`\n",
      "\n",
      "Number of days of sleep deprivation\n",
      "\n",
      "`Subject`\n",
      "\n",
      "Subject number on which the observation was made.\n",
      "\n",
      "### Details\n",
      "\n",
      "These data are from the study described in Belenky et al. (2003), for the\n",
      "sleep-deprived group and for the first 10 days of the study, up to the\n",
      "recovery period.\n",
      "\n",
      "### References\n",
      "\n",
      "Gregory Belenky, Nancy J. Wesensten, David R. Thorne, Maria L. Thomas, Helen\n",
      "C. Sing, Daniel P. Redmond, Michael B. Russo and Thomas J. Balkin (2003)\n",
      "Patterns of performance degradation and restoration during sleep restriction\n",
      "and subsequent recovery: a sleep dose-response study. _Journal of Sleep\n",
      "Research_ **12**, 1–12.\n",
      "\n",
      "### Examples\n",
      "\n",
      "    str(sleepstudy)\n",
      "    require(lattice)\n",
      "    xyplot(Reaction ~ Days | Subject, sleepstudy, type = c(\"g\",\"p\",\"r\"),\n",
      "           index = function(x,y) coef(lm(y ~ x))[1],\n",
      "           xlab = \"Days of sleep deprivation\",\n",
      "           ylab = \"Average reaction time (ms)\", aspect = \"xy\")\n",
      "    (fm1 <- lmer(Reaction ~ Days + (Days|Subject), sleepstudy))\n",
      "    (fm2 <- lmer(Reaction ~ Days + (1|Subject) + (0+Days|Subject), sleepstudy))\n",
      "\n",
      "\n"
     ]
    }
   ],
   "source": [
    "from pydataset import data\n",
    "data('sleepstudy', show_doc = True)\n",
    "df = data('sleepstudy')"
   ]
  },
  {
   "cell_type": "code",
   "execution_count": 101,
   "id": "316826b8",
   "metadata": {},
   "outputs": [
    {
     "name": "stdout",
     "output_type": "stream",
     "text": [
      " Pearson is 0.535 and p-value is 0.000\n"
     ]
    }
   ],
   "source": [
    "r, p = stats.pearsonr(df.Reaction, df.Days)\n",
    "print(f' Pearson is {r:.3f} and p-value is {p:.3f}') #reject null bc p-value < α\n",
    "#moderately positive correlation"
   ]
  },
  {
   "cell_type": "code",
   "execution_count": 104,
   "id": "e32733af",
   "metadata": {},
   "outputs": [
    {
     "data": {
      "text/plain": [
       "<seaborn.axisgrid.FacetGrid at 0x7fe48ff03bb0>"
      ]
     },
     "execution_count": 104,
     "metadata": {},
     "output_type": "execute_result"
    },
    {
     "data": {
      "image/png": "[encoded data removed]",
      "text/plain": [
       "<Figure size 360x360 with 1 Axes>"
      ]
     },
     "metadata": {
      "needs_background": "light"
     },
     "output_type": "display_data"
    }
   ],
   "source": [
    "sns.relplot(data = df, y = 'Reaction', x = 'Days')"
   ]
  },
  {
   "cell_type": "code",
   "execution_count": null,
   "id": "aa2d0b30",
   "metadata": {},
   "outputs": [],
   "source": []
  }
 ],
 "metadata": {
  "kernelspec": {
   "display_name": "Python 3 (ipykernel)",
   "language": "python",
   "name": "python3"
  },
  "language_info": {
   "codemirror_mode": {
    "name": "ipython",
    "version": 3
   },
   "file_extension": ".py",
   "mimetype": "text/x-python",
   "name": "python",
   "nbconvert_exporter": "python",
   "pygments_lexer": "ipython3",
   "version": "3.9.7"
  }
 },
 "nbformat": 4,
 "nbformat_minor": 5
}
