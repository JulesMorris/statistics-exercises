{
 "cells": [
  {
   "cell_type": "code",
   "execution_count": 1,
   "id": "dc4f5271",
   "metadata": {},
   "outputs": [],
   "source": [
    "import numpy as np\n",
    "import seaborn as sns\n",
    "import scipy.stats as stats\n",
    "import pandas as pd\n",
    "import matplotlib.pyplot as plt\n",
    "import env\n",
    "from pydataset import data"
   ]
  },
  {
   "cell_type": "markdown",
   "id": "99b58cdf",
   "metadata": {},
   "source": [
    "# Use the telco_churn data. Does tenure correlate with monthly charges? Total charges? What happens if you control for phone and internet service?"
   ]
  },
  {
   "cell_type": "code",
   "execution_count": 2,
   "id": "b26f8f88",
   "metadata": {},
   "outputs": [],
   "source": [
    "#Load dataset and explore"
   ]
  },
  {
   "cell_type": "code",
   "execution_count": 3,
   "id": "0c07cbde",
   "metadata": {},
   "outputs": [
    {
     "data": {
      "text/html": [
       "<div>\n",
       "<style scoped>\n",
       "    .dataframe tbody tr th:only-of-type {\n",
       "        vertical-align: middle;\n",
       "    }\n",
       "\n",
       "    .dataframe tbody tr th {\n",
       "        vertical-align: top;\n",
       "    }\n",
       "\n",
       "    .dataframe thead th {\n",
       "        text-align: right;\n",
       "    }\n",
       "</style>\n",
       "<table border=\"1\" class=\"dataframe\">\n",
       "  <thead>\n",
       "    <tr style=\"text-align: right;\">\n",
       "      <th></th>\n",
       "      <th>customerID</th>\n",
       "      <th>gender</th>\n",
       "      <th>SeniorCitizen</th>\n",
       "      <th>Partner</th>\n",
       "      <th>Dependents</th>\n",
       "      <th>tenure</th>\n",
       "      <th>PhoneService</th>\n",
       "      <th>MultipleLines</th>\n",
       "      <th>InternetService</th>\n",
       "      <th>OnlineSecurity</th>\n",
       "      <th>...</th>\n",
       "      <th>DeviceProtection</th>\n",
       "      <th>TechSupport</th>\n",
       "      <th>StreamingTV</th>\n",
       "      <th>StreamingMovies</th>\n",
       "      <th>Contract</th>\n",
       "      <th>PaperlessBilling</th>\n",
       "      <th>PaymentMethod</th>\n",
       "      <th>MonthlyCharges</th>\n",
       "      <th>TotalCharges</th>\n",
       "      <th>Churn</th>\n",
       "    </tr>\n",
       "  </thead>\n",
       "  <tbody>\n",
       "    <tr>\n",
       "      <th>0</th>\n",
       "      <td>7590-VHVEG</td>\n",
       "      <td>Female</td>\n",
       "      <td>0</td>\n",
       "      <td>Yes</td>\n",
       "      <td>No</td>\n",
       "      <td>1</td>\n",
       "      <td>No</td>\n",
       "      <td>No phone service</td>\n",
       "      <td>DSL</td>\n",
       "      <td>No</td>\n",
       "      <td>...</td>\n",
       "      <td>No</td>\n",
       "      <td>No</td>\n",
       "      <td>No</td>\n",
       "      <td>No</td>\n",
       "      <td>Month-to-month</td>\n",
       "      <td>Yes</td>\n",
       "      <td>Electronic check</td>\n",
       "      <td>29.85</td>\n",
       "      <td>29.85</td>\n",
       "      <td>No</td>\n",
       "    </tr>\n",
       "    <tr>\n",
       "      <th>1</th>\n",
       "      <td>5575-GNVDE</td>\n",
       "      <td>Male</td>\n",
       "      <td>0</td>\n",
       "      <td>No</td>\n",
       "      <td>No</td>\n",
       "      <td>34</td>\n",
       "      <td>Yes</td>\n",
       "      <td>No</td>\n",
       "      <td>DSL</td>\n",
       "      <td>Yes</td>\n",
       "      <td>...</td>\n",
       "      <td>Yes</td>\n",
       "      <td>No</td>\n",
       "      <td>No</td>\n",
       "      <td>No</td>\n",
       "      <td>One year</td>\n",
       "      <td>No</td>\n",
       "      <td>Mailed check</td>\n",
       "      <td>56.95</td>\n",
       "      <td>1889.50</td>\n",
       "      <td>No</td>\n",
       "    </tr>\n",
       "    <tr>\n",
       "      <th>2</th>\n",
       "      <td>3668-QPYBK</td>\n",
       "      <td>Male</td>\n",
       "      <td>0</td>\n",
       "      <td>No</td>\n",
       "      <td>No</td>\n",
       "      <td>2</td>\n",
       "      <td>Yes</td>\n",
       "      <td>No</td>\n",
       "      <td>DSL</td>\n",
       "      <td>Yes</td>\n",
       "      <td>...</td>\n",
       "      <td>No</td>\n",
       "      <td>No</td>\n",
       "      <td>No</td>\n",
       "      <td>No</td>\n",
       "      <td>Month-to-month</td>\n",
       "      <td>Yes</td>\n",
       "      <td>Mailed check</td>\n",
       "      <td>53.85</td>\n",
       "      <td>108.15</td>\n",
       "      <td>Yes</td>\n",
       "    </tr>\n",
       "    <tr>\n",
       "      <th>3</th>\n",
       "      <td>7795-CFOCW</td>\n",
       "      <td>Male</td>\n",
       "      <td>0</td>\n",
       "      <td>No</td>\n",
       "      <td>No</td>\n",
       "      <td>45</td>\n",
       "      <td>No</td>\n",
       "      <td>No phone service</td>\n",
       "      <td>DSL</td>\n",
       "      <td>Yes</td>\n",
       "      <td>...</td>\n",
       "      <td>Yes</td>\n",
       "      <td>Yes</td>\n",
       "      <td>No</td>\n",
       "      <td>No</td>\n",
       "      <td>One year</td>\n",
       "      <td>No</td>\n",
       "      <td>Bank transfer (automatic)</td>\n",
       "      <td>42.30</td>\n",
       "      <td>1840.75</td>\n",
       "      <td>No</td>\n",
       "    </tr>\n",
       "    <tr>\n",
       "      <th>4</th>\n",
       "      <td>9237-HQITU</td>\n",
       "      <td>Female</td>\n",
       "      <td>0</td>\n",
       "      <td>No</td>\n",
       "      <td>No</td>\n",
       "      <td>2</td>\n",
       "      <td>Yes</td>\n",
       "      <td>No</td>\n",
       "      <td>Fiber optic</td>\n",
       "      <td>No</td>\n",
       "      <td>...</td>\n",
       "      <td>No</td>\n",
       "      <td>No</td>\n",
       "      <td>No</td>\n",
       "      <td>No</td>\n",
       "      <td>Month-to-month</td>\n",
       "      <td>Yes</td>\n",
       "      <td>Electronic check</td>\n",
       "      <td>70.70</td>\n",
       "      <td>151.65</td>\n",
       "      <td>Yes</td>\n",
       "    </tr>\n",
       "  </tbody>\n",
       "</table>\n",
       "<p>5 rows × 21 columns</p>\n",
       "</div>"
      ],
      "text/plain": [
       "   customerID  gender  SeniorCitizen Partner Dependents  tenure PhoneService  \\\n",
       "0  7590-VHVEG  Female              0     Yes         No       1           No   \n",
       "1  5575-GNVDE    Male              0      No         No      34          Yes   \n",
       "2  3668-QPYBK    Male              0      No         No       2          Yes   \n",
       "3  7795-CFOCW    Male              0      No         No      45           No   \n",
       "4  9237-HQITU  Female              0      No         No       2          Yes   \n",
       "\n",
       "      MultipleLines InternetService OnlineSecurity  ... DeviceProtection  \\\n",
       "0  No phone service             DSL             No  ...               No   \n",
       "1                No             DSL            Yes  ...              Yes   \n",
       "2                No             DSL            Yes  ...               No   \n",
       "3  No phone service             DSL            Yes  ...              Yes   \n",
       "4                No     Fiber optic             No  ...               No   \n",
       "\n",
       "  TechSupport StreamingTV StreamingMovies        Contract PaperlessBilling  \\\n",
       "0          No          No              No  Month-to-month              Yes   \n",
       "1          No          No              No        One year               No   \n",
       "2          No          No              No  Month-to-month              Yes   \n",
       "3         Yes          No              No        One year               No   \n",
       "4          No          No              No  Month-to-month              Yes   \n",
       "\n",
       "               PaymentMethod MonthlyCharges  TotalCharges  Churn  \n",
       "0           Electronic check          29.85         29.85     No  \n",
       "1               Mailed check          56.95       1889.50     No  \n",
       "2               Mailed check          53.85        108.15    Yes  \n",
       "3  Bank transfer (automatic)          42.30       1840.75     No  \n",
       "4           Electronic check          70.70        151.65    Yes  \n",
       "\n",
       "[5 rows x 21 columns]"
      ]
     },
     "execution_count": 3,
     "metadata": {},
     "output_type": "execute_result"
    }
   ],
   "source": [
    "df = pd.read_csv('telco_churn.csv')\n",
    "df.head()"
   ]
  },
  {
   "cell_type": "code",
   "execution_count": 4,
   "id": "063566f9",
   "metadata": {},
   "outputs": [
    {
     "name": "stdout",
     "output_type": "stream",
     "text": [
      "<class 'pandas.core.frame.DataFrame'>\n",
      "RangeIndex: 7043 entries, 0 to 7042\n",
      "Data columns (total 21 columns):\n",
      " #   Column            Non-Null Count  Dtype  \n",
      "---  ------            --------------  -----  \n",
      " 0   customerID        7043 non-null   object \n",
      " 1   gender            7043 non-null   object \n",
      " 2   SeniorCitizen     7043 non-null   int64  \n",
      " 3   Partner           7043 non-null   object \n",
      " 4   Dependents        7043 non-null   object \n",
      " 5   tenure            7043 non-null   int64  \n",
      " 6   PhoneService      7043 non-null   object \n",
      " 7   MultipleLines     7043 non-null   object \n",
      " 8   InternetService   7043 non-null   object \n",
      " 9   OnlineSecurity    7043 non-null   object \n",
      " 10  OnlineBackup      7043 non-null   object \n",
      " 11  DeviceProtection  7043 non-null   object \n",
      " 12  TechSupport       7043 non-null   object \n",
      " 13  StreamingTV       7043 non-null   object \n",
      " 14  StreamingMovies   7043 non-null   object \n",
      " 15  Contract          7043 non-null   object \n",
      " 16  PaperlessBilling  7043 non-null   object \n",
      " 17  PaymentMethod     7043 non-null   object \n",
      " 18  MonthlyCharges    7043 non-null   float64\n",
      " 19  TotalCharges      7032 non-null   float64\n",
      " 20  Churn             7043 non-null   object \n",
      "dtypes: float64(2), int64(2), object(17)\n",
      "memory usage: 1.1+ MB\n"
     ]
    }
   ],
   "source": [
    "df.info()"
   ]
  },
  {
   "cell_type": "code",
   "execution_count": 5,
   "id": "e5ef75b8",
   "metadata": {},
   "outputs": [
    {
     "data": {
      "text/plain": [
       "customerID           0\n",
       "gender               0\n",
       "SeniorCitizen        0\n",
       "Partner              0\n",
       "Dependents           0\n",
       "tenure               0\n",
       "PhoneService         0\n",
       "MultipleLines        0\n",
       "InternetService      0\n",
       "OnlineSecurity       0\n",
       "OnlineBackup         0\n",
       "DeviceProtection     0\n",
       "TechSupport          0\n",
       "StreamingTV          0\n",
       "StreamingMovies      0\n",
       "Contract             0\n",
       "PaperlessBilling     0\n",
       "PaymentMethod        0\n",
       "MonthlyCharges       0\n",
       "TotalCharges        11\n",
       "Churn                0\n",
       "dtype: int64"
      ]
     },
     "execution_count": 5,
     "metadata": {},
     "output_type": "execute_result"
    }
   ],
   "source": [
    "#look at null values, 11 of them in TotalCharges, so drop nulls\n",
    "df.isna().sum()"
   ]
  },
  {
   "cell_type": "code",
   "execution_count": 6,
   "id": "614c0d42",
   "metadata": {},
   "outputs": [],
   "source": [
    "df = df.dropna()"
   ]
  },
  {
   "cell_type": "code",
   "execution_count": 7,
   "id": "c842e48c",
   "metadata": {
    "scrolled": true
   },
   "outputs": [
    {
     "data": {
      "text/plain": [
       "<AxesSubplot:xlabel='tenure', ylabel='MonthlyCharges'>"
      ]
     },
     "execution_count": 7,
     "metadata": {},
     "output_type": "execute_result"
    },
    {
     "data": {
      "image/png": "[encoded data removed]",
      "text/plain": [
       "<Figure size 432x288 with 1 Axes>"
      ]
     },
     "metadata": {
      "needs_background": "light"
     },
     "output_type": "display_data"
    }
   ],
   "source": [
    "df.plot.scatter(y = 'MonthlyCharges', x = 'tenure')"
   ]
  },
  {
   "cell_type": "markdown",
   "id": "5876b5d8",
   "metadata": {},
   "source": [
    "- $\\alpha = .05$\n",
    "- $H_0$: There is no linear relationship between tenure and MonthlyCharges. (Pearson-r JUST cares about linearity)\n",
    "- $H_a$: There is a linear relationship between tenure and MonthlyCharges."
   ]
  },
  {
   "cell_type": "code",
   "execution_count": 8,
   "id": "25adeaff",
   "metadata": {},
   "outputs": [
    {
     "name": "stdout",
     "output_type": "stream",
     "text": [
      " Pearson is 0.247 and p-value at 0.000\n"
     ]
    }
   ],
   "source": [
    "#how does tenure correlate w/ monthly charges?\n",
    "x = df.tenure\n",
    "y = df.MonthlyCharges\n",
    "\n",
    "r, p = stats.pearsonr(x , y)\n",
    "print(f' Pearson is {r:.3f} and p-value at {p:.3f}') #since p is less than alpha, reject null"
   ]
  },
  {
   "cell_type": "markdown",
   "id": "0a1e6917",
   "metadata": {},
   "source": [
    "- $\\alpha = .05$\n",
    "- $H_0$: There is no linear relationship between tenure and TotalCharges. (Pearson-r JUST cares about linearity)\n",
    "- $H_a$: There is a linear relationship between tenure and TotalCharges."
   ]
  },
  {
   "cell_type": "code",
   "execution_count": 9,
   "id": "4e6b065b",
   "metadata": {},
   "outputs": [
    {
     "name": "stdout",
     "output_type": "stream",
     "text": [
      "Pearson is 0.826 and p-value  is 0.000\n"
     ]
    }
   ],
   "source": [
    "#how does tenure correlate w/ total charges?\n",
    "x = df.tenure\n",
    "y = df.TotalCharges\n",
    "\n",
    "r, p = stats.pearsonr(x , y)\n",
    "print(f'Pearson is {r:.3f} and p-value  is {p:.3f}') #since p is less than alpha, reject null"
   ]
  },
  {
   "cell_type": "markdown",
   "id": "ba37ad3e",
   "metadata": {},
   "source": [
    "- $\\alpha = .05$\n",
    "- $H_0$: There is no linear relationship between phone service tenure and MonthlyCharges. (Pearson-r JUST cares about linearity)\n",
    "- $H_a$: There is a linear relationship between phone tenure and MonthlyCharges."
   ]
  },
  {
   "cell_type": "code",
   "execution_count": 16,
   "id": "d36ce505",
   "metadata": {},
   "outputs": [],
   "source": [
    "#What happens if you control for phone and internet?\n",
    "# make new dfs for control measures\n",
    "\n",
    "#subset tenure and PhoneService by Yes and No\n",
    "\n",
    "x_phone_tenure = df['tenure'][df['PhoneService'] == 'Yes']\n",
    "x_phone_total = df['TotalCharges'][df['PhoneService'] == 'Yes']\n",
    "y_phone_monthly = df['MonthlyCharges'][df['PhoneService'] == 'Yes']\n",
    "\n",
    "x_no_phone_tenure = df['tenure'][df['PhoneService'] == 'No']\n",
    "x_no_phone_total = df['TotalCharges'][df['PhoneService'] == 'No']\n",
    "y_no_phone_monthly = df['MonthlyCharges'][df['PhoneService'] == 'No']"
   ]
  },
  {
   "cell_type": "code",
   "execution_count": 17,
   "id": "f3584786",
   "metadata": {},
   "outputs": [
    {
     "name": "stdout",
     "output_type": "stream",
     "text": [
      " Pearson is 0.244 and p-value is 0.000\n"
     ]
    }
   ],
   "source": [
    "#get Pearson r of phone tenure for Yes\n",
    "\n",
    "r, p = stats.pearsonr(x_phone_tenure, y_phone_monthly)\n",
    "print(f' Pearson is {r:.3f} and p-value is {p:.3f}') #since p-value lower than alpha, reject null"
   ]
  },
  {
   "cell_type": "markdown",
   "id": "396d4bc2",
   "metadata": {},
   "source": [
    "- $\\alpha = .05$\n",
    "- $H_0$: There is no linear relationship between phone total and MonthlyCharges. (Pearson-r JUST cares about linearity)\n",
    "- $H_a$: There is a linear relationship between phone total and MonthlyCharges."
   ]
  },
  {
   "cell_type": "code",
   "execution_count": 18,
   "id": "1a6b2379",
   "metadata": {},
   "outputs": [
    {
     "name": "stdout",
     "output_type": "stream",
     "text": [
      "Pearson is 0.646 and p-value is 0.000\n"
     ]
    }
   ],
   "source": [
    "#tenure vs TotalCharges\n",
    "\n",
    "r, p = stats.pearsonr(x_phone_total, y_phone_monthly)\n",
    "print(f'Pearson is {r:.3f} and p-value is {p:.3f}') #since p-value is lower than alpha, reject null"
   ]
  },
  {
   "cell_type": "markdown",
   "id": "0cce12c9",
   "metadata": {},
   "source": [
    "- $\\alpha = .05$\n",
    "- $H_0$: There is no linear relationship between tenure of customers without phone service and MonthlyCharges. (Pearson-r JUST cares about linearity)\n",
    "- $H_a$: There is a linear relationship between tenure of customers without phone service and MonthlyCharges."
   ]
  },
  {
   "cell_type": "code",
   "execution_count": 19,
   "id": "ebc90de7",
   "metadata": {},
   "outputs": [
    {
     "name": "stdout",
     "output_type": "stream",
     "text": [
      "Pearson is 0.592 and p-value is 0.000\n"
     ]
    }
   ],
   "source": [
    "#no phone tenure vs no phone MonthlyCharges\n",
    "\n",
    "r, p = stats.pearsonr(x_no_phone_tenure, y_no_phone_monthly)\n",
    "print(f'Pearson is {r:.3f} and p-value is {p:.3f}') #since p-value is less than alpha, reject null"
   ]
  },
  {
   "cell_type": "markdown",
   "id": "1ca6fea4",
   "metadata": {},
   "source": [
    "- $\\alpha = .05$\n",
    "- $H_0$: There is no linear relationship between the total charges of customers without phone service and MonthlyCharges. (Pearson-r JUST cares about linearity)\n",
    "- $H_a$: There is a linear relationship between the total charges of customers without phone service and MonthlyCharges."
   ]
  },
  {
   "cell_type": "code",
   "execution_count": 20,
   "id": "ccc709b2",
   "metadata": {},
   "outputs": [
    {
     "name": "stdout",
     "output_type": "stream",
     "text": [
      "Pearson is 0.747 and p-value is 0.000\n"
     ]
    }
   ],
   "source": [
    "#no phone total vs no phone MonthlyCharges\n",
    "\n",
    "r, p = stats.pearsonr(x_no_phone_total, y_no_phone_monthly)\n",
    "print(f'Pearson is {r:.3f} and p-value is {p:.3f}') #since p-value is less than alpha, reject null"
   ]
  },
  {
   "cell_type": "markdown",
   "id": "362d9625",
   "metadata": {},
   "source": [
    "- $\\alpha = .05$\n",
    "- $H_0$: There is no linear relationship between DSL internet service and MonthlyCharges. (Pearson-r JUST cares about linearity)\n",
    "- $H_a$: There is a linear relationship between DSL internet service and and MonthlyCharges."
   ]
  },
  {
   "cell_type": "code",
   "execution_count": 21,
   "id": "d5fe21e0",
   "metadata": {},
   "outputs": [],
   "source": [
    "#internet service subsetting DSL\n",
    "\n",
    "x_dsl_tenure = df['tenure'][df['InternetService'] == 'DSL']\n",
    "x_dsl_total = df['TotalCharges'][df['InternetService'] == 'DSL']\n",
    "y_dsl_monthly = df['MonthlyCharges'][df['InternetService'] == 'DSL']"
   ]
  },
  {
   "cell_type": "code",
   "execution_count": 37,
   "id": "27dff401",
   "metadata": {},
   "outputs": [],
   "source": [
    "#internet service subsetting Fiber Optic\n",
    "x_fo_tenure = df['tenure'][df['InternetService'] == 'Fiber optic']\n",
    "x_fo_total = df['TotalCharges'][df['InternetService'] == 'Fiber optic']\n",
    "y_fo_monthly = df['TotalCharges'][df['InternetService'] == 'Fiber optic']"
   ]
  },
  {
   "cell_type": "code",
   "execution_count": 24,
   "id": "957096b3",
   "metadata": {},
   "outputs": [],
   "source": [
    "#internet subsetting, No internet Service\n",
    "\n",
    "x_no_is_tenure = df['tenure'][df['InternetService'] == 'No']\n",
    "x_no_is_total = df['TotalCharges'][df['InternetService'] == 'No']\n",
    "y_no_is_monthly = df['MonthlyCharges'][df['InternetService'] == 'No']"
   ]
  },
  {
   "cell_type": "code",
   "execution_count": 26,
   "id": "caeaf47a",
   "metadata": {},
   "outputs": [
    {
     "name": "stdout",
     "output_type": "stream",
     "text": [
      "Pearson is 0.520 and p-value is 0.000\n"
     ]
    }
   ],
   "source": [
    "#DSL tenure and monthly charges\n",
    "\n",
    "r, p = stats.pearsonr(x_dsl_tenure, y_dsl_monthly)\n",
    "print(f'Pearson is {r:.3f} and p-value is {p:.3f}') #p-value lower than alpha, reject the null\n",
    "#moderate positve correlation"
   ]
  },
  {
   "cell_type": "code",
   "execution_count": 27,
   "id": "20e231d3",
   "metadata": {},
   "outputs": [
    {
     "name": "stdout",
     "output_type": "stream",
     "text": [
      "Pearson is 0.718 and p-value is 0.000\n"
     ]
    }
   ],
   "source": [
    "#DSL total versus monthly\n",
    "\n",
    "r, p = stats.pearsonr(x_dsl_total, y_dsl_monthly)\n",
    "print(f'Pearson is {r:.3f} and p-value is {p:.3f}') #p-value lower than alpha, reject null\n",
    "#strong positive correlation"
   ]
  },
  {
   "cell_type": "code",
   "execution_count": null,
   "id": "a853ac34",
   "metadata": {},
   "outputs": [],
   "source": [
    "#get fiber optic value counts bc was getting error, it's 'Fiber optic', not 'Fiber Optic' 小問題\n",
    "\n",
    "df[df['InternetService'] == 'Fiber optic'].value_counts().sum() #3096"
   ]
  },
  {
   "cell_type": "code",
   "execution_count": 44,
   "id": "51bc4fd9",
   "metadata": {},
   "outputs": [
    {
     "name": "stdout",
     "output_type": "stream",
     "text": [
      "Pearson is 0.985 and p-value is 0.000\n"
     ]
    },
    {
     "data": {
      "text/plain": [
       "3096"
      ]
     },
     "execution_count": 44,
     "metadata": {},
     "output_type": "execute_result"
    }
   ],
   "source": [
    "#Fiber optic tenure versus monthly \n",
    "r, p = stats.pearsonr(x_fo_tenure, y_fo_monthly)\n",
    "print(f'Pearson is {r:.3f} and p-value is {p:.3f}') #reject null bc p-value lower than alpha\n",
    "#strong positive correlation"
   ]
  },
  {
   "cell_type": "code",
   "execution_count": 47,
   "id": "23c98d4a",
   "metadata": {},
   "outputs": [
    {
     "name": "stdout",
     "output_type": "stream",
     "text": [
      "Pearson is 0.346 and p-value is 0.000\n"
     ]
    }
   ],
   "source": [
    "#no internet service tenure versus monthly\n",
    "\n",
    "r, p = stats.pearsonr(x_no_is_tenure, y_no_is_monthly)\n",
    "print(f'Pearson is {r:.3f} and p-value is {p:.3f}') #p-value lower than alpha, reject null\n",
    "#weak positive correlation"
   ]
  },
  {
   "cell_type": "code",
   "execution_count": 49,
   "id": "57317b5c",
   "metadata": {},
   "outputs": [
    {
     "name": "stdout",
     "output_type": "stream",
     "text": [
      "Pearson is 0.484 and p-value is 0.000\n"
     ]
    }
   ],
   "source": [
    "#no internet service total v monthly\n",
    "r, p = stats.pearsonr(x_no_is_total, y_no_is_monthly)\n",
    "print(f'Pearson is {r:.3f} and p-value is {p:.3f}') #p-value lower than alpha, reject null\n",
    "\n",
    "#moderate positive correlation"
   ]
  },
  {
   "cell_type": "markdown",
   "id": "6322f4f7",
   "metadata": {},
   "source": [
    "Use the employees database.\n",
    "\n",
    "    Is there a relationship between how long an employee has been with the company and their salary?\n",
    "    Is there a relationship between how long an employee has been with the company and the number of titles they have had?\n"
   ]
  },
  {
   "cell_type": "code",
   "execution_count": null,
   "id": "2e972166",
   "metadata": {},
   "outputs": [],
   "source": []
  },
  {
   "cell_type": "markdown",
   "id": "da61d255",
   "metadata": {},
   "source": [
    "Use the sleepstudy data. Is there a relationship between days and reaction time?"
   ]
  },
  {
   "cell_type": "code",
   "execution_count": 54,
   "id": "83a723b9",
   "metadata": {},
   "outputs": [
    {
     "name": "stdout",
     "output_type": "stream",
     "text": [
      "sleepstudy\n",
      "\n",
      "PyDataset Documentation (adopted from R Documentation. The displayed examples are in R)\n",
      "\n",
      "## Reaction times in a sleep deprivation study\n",
      "\n",
      "### Description\n",
      "\n",
      "The average reaction time per day for subjects in a sleep deprivation study.\n",
      "On day 0 the subjects had their normal amount of sleep. Starting that night\n",
      "they were restricted to 3 hours of sleep per night. The observations represent\n",
      "the average reaction time on a series of tests given each day to each subject.\n",
      "\n",
      "### Format\n",
      "\n",
      "A data frame with 180 observations on the following 3 variables.\n",
      "\n",
      "`Reaction`\n",
      "\n",
      "Average reaction time (ms)\n",
      "\n",
      "`Days`\n",
      "\n",
      "Number of days of sleep deprivation\n",
      "\n",
      "`Subject`\n",
      "\n",
      "Subject number on which the observation was made.\n",
      "\n",
      "### Details\n",
      "\n",
      "These data are from the study described in Belenky et al. (2003), for the\n",
      "sleep-deprived group and for the first 10 days of the study, up to the\n",
      "recovery period.\n",
      "\n",
      "### References\n",
      "\n",
      "Gregory Belenky, Nancy J. Wesensten, David R. Thorne, Maria L. Thomas, Helen\n",
      "C. Sing, Daniel P. Redmond, Michael B. Russo and Thomas J. Balkin (2003)\n",
      "Patterns of performance degradation and restoration during sleep restriction\n",
      "and subsequent recovery: a sleep dose-response study. _Journal of Sleep\n",
      "Research_ **12**, 1–12.\n",
      "\n",
      "### Examples\n",
      "\n",
      "    str(sleepstudy)\n",
      "    require(lattice)\n",
      "    xyplot(Reaction ~ Days | Subject, sleepstudy, type = c(\"g\",\"p\",\"r\"),\n",
      "           index = function(x,y) coef(lm(y ~ x))[1],\n",
      "           xlab = \"Days of sleep deprivation\",\n",
      "           ylab = \"Average reaction time (ms)\", aspect = \"xy\")\n",
      "    (fm1 <- lmer(Reaction ~ Days + (Days|Subject), sleepstudy))\n",
      "    (fm2 <- lmer(Reaction ~ Days + (1|Subject) + (0+Days|Subject), sleepstudy))\n",
      "\n",
      "\n"
     ]
    }
   ],
   "source": [
    "from pydataset import data\n",
    "df = data('sleepstudy', show_doc = True)"
   ]
  },
  {
   "cell_type": "code",
   "execution_count": 55,
   "id": "e841f26c",
   "metadata": {},
   "outputs": [
    {
     "ename": "AttributeError",
     "evalue": "'NoneType' object has no attribute 'head'",
     "output_type": "error",
     "traceback": [
      "\u001b[0;31m---------------------------------------------------------------------------\u001b[0m",
      "\u001b[0;31mAttributeError\u001b[0m                            Traceback (most recent call last)",
      "\u001b[0;32m/var/folders/ry/d9b6htx57bx_sj1vtzmy_pbw0000gn/T/ipykernel_1761/964094849.py\u001b[0m in \u001b[0;36m<module>\u001b[0;34m\u001b[0m\n\u001b[0;32m----> 1\u001b[0;31m \u001b[0mdf\u001b[0m\u001b[0;34m.\u001b[0m\u001b[0mhead\u001b[0m\u001b[0;34m(\u001b[0m\u001b[0;34m)\u001b[0m\u001b[0;34m\u001b[0m\u001b[0;34m\u001b[0m\u001b[0m\n\u001b[0m",
      "\u001b[0;31mAttributeError\u001b[0m: 'NoneType' object has no attribute 'head'"
     ]
    }
   ],
   "source": [
    "df"
   ]
  },
  {
   "cell_type": "code",
   "execution_count": null,
   "id": "2daede79",
   "metadata": {},
   "outputs": [],
   "source": []
  }
 ],
 "metadata": {
  "kernelspec": {
   "display_name": "Python 3 (ipykernel)",
   "language": "python",
   "name": "python3"
  },
  "language_info": {
   "codemirror_mode": {
    "name": "ipython",
    "version": 3
   },
   "file_extension": ".py",
   "mimetype": "text/x-python",
   "name": "python",
   "nbconvert_exporter": "python",
   "pygments_lexer": "ipython3",
   "version": "3.9.7"
  }
 },
 "nbformat": 4,
 "nbformat_minor": 5
}
