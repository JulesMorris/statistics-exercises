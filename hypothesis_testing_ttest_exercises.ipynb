{
 "cells": [
  {
   "cell_type": "markdown",
   "id": "724b087f",
   "metadata": {},
   "source": [
    "The null hypothesis, is the \"status quo\", and usually reflects no change or no difference, while the alternative hypothesis says that there is a difference or change."
   ]
  },
  {
   "cell_type": "markdown",
   "id": "e8f17c98",
   "metadata": {},
   "source": [
    "Some examples:\n",
    "\n",
    "H0: There is no difference in right-handed people and left-handed individual's heights.\n",
    "\n",
    "Ha: There is a difference in right-handed people and left-handed individual's heights.\n",
    "\n",
    "H0: The amount of sleep a student gets the night before an exam makes no difference on the student's exam score.\n",
    "\n",
    "Ha: Less sleep the night before an exam leads to a lower exam score."
   ]
  },
  {
   "cell_type": "markdown",
   "id": "cc281b5d",
   "metadata": {},
   "source": [
    "## Reformulate to more meaningful/clear questions that are testable.\n",
    "    \n",
    "   Has the network latency gone up since we switched internet service providers?\n",
    "        \n",
    "        What was the average ping during peak hours with our old ISP compared to our new ISP?\n",
    "        \n",
    "        Null Hypothesis: There is no change in network latency since changing ISP.\n",
    "        Alternative hypothesis: There is a change in network latency since changing ISP.\n",
    "        Type I error(False Positive): Yes, network latency has increased (in fact, latency is the same or has decreased)\n",
    "        Type II error (False Negative): No, network latency is the same (in fact, latency has increased or decreased)\n",
    "\n",
    "    Is the website redesign any good?\n",
    "        What was the average website traffic before the website redesign? \n",
    "        Average time on the site? \n",
    "        Average number of items sitting in cart and abandoned? How does that compare to the new site?\n",
    "            \n",
    "       Null Hypothesis: The website redesign produces the same average daily website traffic has remained unchanged.\n",
    "       Alternative Hypothesis: The average daily website traffic\n",
    "       Type I error(False Positive):\n",
    "       Type II error(False Negative):\n",
    "    \n",
    "    Is our television ad driving more sales?\n",
    "        Have sales increased or decreased compared to season adjusted average sales before the ad?\n",
    "        \n",
    "        Null Hypothesis: The sales are exactly the same as they were before the ad.\n",
    "        Alternative Hypothesis: Sales have increased since the television ad.\n",
    "        Type I error(False Positive):\n",
    "        Type II error(False Negative):\n",
    "\n"
   ]
  },
  {
   "cell_type": "code",
   "execution_count": 1,
   "id": "e1ebf6c8",
   "metadata": {},
   "outputs": [],
   "source": [
    "import numpy as np\n",
    "import seaborn as sns\n",
    "import scipy.stats as stats\n",
    "import pandas as pd\n",
    "import matplotlib.pyplot as plt\n",
    "import env"
   ]
  },
  {
   "cell_type": "code",
   "execution_count": 2,
   "id": "923725a2",
   "metadata": {},
   "outputs": [
    {
     "data": {
      "text/plain": [
       "(-2.7091418459143854, 0.00811206270346016)"
      ]
     },
     "execution_count": 2,
     "metadata": {},
     "output_type": "execute_result"
    }
   ],
   "source": [
    "# Ace Realty wants to determine whether the average time it takes to sell homes is different for its two \n",
    "#offices. A sample of 40 sales from office #1 revealed a mean of 90 days and a standard deviation of 15 days. \n",
    "#A sample of 50 sales from office #2 revealed a mean of 100 days and a standard deviation of 20 days. \n",
    "#Use a .05 level of significance.\n",
    "\n",
    "#sample 1\n",
    "alpha = 0.5\n",
    "\n",
    "mean1 = 90\n",
    "std1 = 15\n",
    "sample1 = 40\n",
    "\n",
    "#sample 2\n",
    "\n",
    "mean2 = 100\n",
    "std2 = 20\n",
    "sample2 = 50\n",
    "\n",
    "t, p = stats.ttest_ind_from_stats(mean1, std1, sample1, mean2, std2, sample2, equal_var = False)\n",
    "t,p"
   ]
  },
  {
   "cell_type": "code",
   "execution_count": 3,
   "id": "299c0811",
   "metadata": {},
   "outputs": [],
   "source": [
    "from pydataset import data"
   ]
  },
  {
   "cell_type": "code",
   "execution_count": 4,
   "id": "b8225645",
   "metadata": {},
   "outputs": [],
   "source": [
    "mpg = data('mpg')"
   ]
  },
  {
   "cell_type": "markdown",
   "id": "4dd36ab4",
   "metadata": {},
   "source": [
    "\n",
    "\n",
    "Load the mpg dataset and use it to answer the following questions:\n",
    "\n",
    "    Is there a difference in fuel-efficiency in cars from 2008 vs 1999?\n",
    "    Are compact cars more fuel-efficient than the average car?\n",
    "    Do manual cars get better gas mileage than automatic cars?\n",
    "\n"
   ]
  },
  {
   "cell_type": "code",
   "execution_count": 5,
   "id": "69837dae",
   "metadata": {
    "scrolled": true
   },
   "outputs": [
    {
     "data": {
      "text/html": [
       "<div>\n",
       "<style scoped>\n",
       "    .dataframe tbody tr th:only-of-type {\n",
       "        vertical-align: middle;\n",
       "    }\n",
       "\n",
       "    .dataframe tbody tr th {\n",
       "        vertical-align: top;\n",
       "    }\n",
       "\n",
       "    .dataframe thead th {\n",
       "        text-align: right;\n",
       "    }\n",
       "</style>\n",
       "<table border=\"1\" class=\"dataframe\">\n",
       "  <thead>\n",
       "    <tr style=\"text-align: right;\">\n",
       "      <th></th>\n",
       "      <th>manufacturer</th>\n",
       "      <th>model</th>\n",
       "      <th>displ</th>\n",
       "      <th>year</th>\n",
       "      <th>cyl</th>\n",
       "      <th>trans</th>\n",
       "      <th>drv</th>\n",
       "      <th>cty</th>\n",
       "      <th>hwy</th>\n",
       "      <th>fl</th>\n",
       "      <th>class</th>\n",
       "    </tr>\n",
       "  </thead>\n",
       "  <tbody>\n",
       "    <tr>\n",
       "      <th>1</th>\n",
       "      <td>audi</td>\n",
       "      <td>a4</td>\n",
       "      <td>1.8</td>\n",
       "      <td>1999</td>\n",
       "      <td>4</td>\n",
       "      <td>auto(l5)</td>\n",
       "      <td>f</td>\n",
       "      <td>18</td>\n",
       "      <td>29</td>\n",
       "      <td>p</td>\n",
       "      <td>compact</td>\n",
       "    </tr>\n",
       "    <tr>\n",
       "      <th>2</th>\n",
       "      <td>audi</td>\n",
       "      <td>a4</td>\n",
       "      <td>1.8</td>\n",
       "      <td>1999</td>\n",
       "      <td>4</td>\n",
       "      <td>manual(m5)</td>\n",
       "      <td>f</td>\n",
       "      <td>21</td>\n",
       "      <td>29</td>\n",
       "      <td>p</td>\n",
       "      <td>compact</td>\n",
       "    </tr>\n",
       "    <tr>\n",
       "      <th>3</th>\n",
       "      <td>audi</td>\n",
       "      <td>a4</td>\n",
       "      <td>2.0</td>\n",
       "      <td>2008</td>\n",
       "      <td>4</td>\n",
       "      <td>manual(m6)</td>\n",
       "      <td>f</td>\n",
       "      <td>20</td>\n",
       "      <td>31</td>\n",
       "      <td>p</td>\n",
       "      <td>compact</td>\n",
       "    </tr>\n",
       "    <tr>\n",
       "      <th>4</th>\n",
       "      <td>audi</td>\n",
       "      <td>a4</td>\n",
       "      <td>2.0</td>\n",
       "      <td>2008</td>\n",
       "      <td>4</td>\n",
       "      <td>auto(av)</td>\n",
       "      <td>f</td>\n",
       "      <td>21</td>\n",
       "      <td>30</td>\n",
       "      <td>p</td>\n",
       "      <td>compact</td>\n",
       "    </tr>\n",
       "    <tr>\n",
       "      <th>5</th>\n",
       "      <td>audi</td>\n",
       "      <td>a4</td>\n",
       "      <td>2.8</td>\n",
       "      <td>1999</td>\n",
       "      <td>6</td>\n",
       "      <td>auto(l5)</td>\n",
       "      <td>f</td>\n",
       "      <td>16</td>\n",
       "      <td>26</td>\n",
       "      <td>p</td>\n",
       "      <td>compact</td>\n",
       "    </tr>\n",
       "  </tbody>\n",
       "</table>\n",
       "</div>"
      ],
      "text/plain": [
       "  manufacturer model  displ  year  cyl       trans drv  cty  hwy fl    class\n",
       "1         audi    a4    1.8  1999    4    auto(l5)   f   18   29  p  compact\n",
       "2         audi    a4    1.8  1999    4  manual(m5)   f   21   29  p  compact\n",
       "3         audi    a4    2.0  2008    4  manual(m6)   f   20   31  p  compact\n",
       "4         audi    a4    2.0  2008    4    auto(av)   f   21   30  p  compact\n",
       "5         audi    a4    2.8  1999    6    auto(l5)   f   16   26  p  compact"
      ]
     },
     "execution_count": 5,
     "metadata": {},
     "output_type": "execute_result"
    }
   ],
   "source": [
    "mpg.head()"
   ]
  },
  {
   "cell_type": "code",
   "execution_count": 6,
   "id": "bdd76678",
   "metadata": {},
   "outputs": [
    {
     "data": {
      "text/html": [
       "<div>\n",
       "<style scoped>\n",
       "    .dataframe tbody tr th:only-of-type {\n",
       "        vertical-align: middle;\n",
       "    }\n",
       "\n",
       "    .dataframe tbody tr th {\n",
       "        vertical-align: top;\n",
       "    }\n",
       "\n",
       "    .dataframe thead th {\n",
       "        text-align: right;\n",
       "    }\n",
       "</style>\n",
       "<table border=\"1\" class=\"dataframe\">\n",
       "  <thead>\n",
       "    <tr style=\"text-align: right;\">\n",
       "      <th></th>\n",
       "      <th>manufacturer</th>\n",
       "      <th>model</th>\n",
       "      <th>displ</th>\n",
       "      <th>year</th>\n",
       "      <th>cyl</th>\n",
       "      <th>trans</th>\n",
       "      <th>drv</th>\n",
       "      <th>cty</th>\n",
       "      <th>hwy</th>\n",
       "      <th>fl</th>\n",
       "      <th>class</th>\n",
       "      <th>afe</th>\n",
       "      <th>arithmetic_afe</th>\n",
       "    </tr>\n",
       "  </thead>\n",
       "  <tbody>\n",
       "    <tr>\n",
       "      <th>1</th>\n",
       "      <td>audi</td>\n",
       "      <td>a4</td>\n",
       "      <td>1.8</td>\n",
       "      <td>1999</td>\n",
       "      <td>4</td>\n",
       "      <td>auto(l5)</td>\n",
       "      <td>f</td>\n",
       "      <td>18</td>\n",
       "      <td>29</td>\n",
       "      <td>p</td>\n",
       "      <td>compact</td>\n",
       "      <td>22.212766</td>\n",
       "      <td>23.5</td>\n",
       "    </tr>\n",
       "    <tr>\n",
       "      <th>2</th>\n",
       "      <td>audi</td>\n",
       "      <td>a4</td>\n",
       "      <td>1.8</td>\n",
       "      <td>1999</td>\n",
       "      <td>4</td>\n",
       "      <td>manual(m5)</td>\n",
       "      <td>f</td>\n",
       "      <td>21</td>\n",
       "      <td>29</td>\n",
       "      <td>p</td>\n",
       "      <td>compact</td>\n",
       "      <td>24.360000</td>\n",
       "      <td>25.0</td>\n",
       "    </tr>\n",
       "    <tr>\n",
       "      <th>3</th>\n",
       "      <td>audi</td>\n",
       "      <td>a4</td>\n",
       "      <td>2.0</td>\n",
       "      <td>2008</td>\n",
       "      <td>4</td>\n",
       "      <td>manual(m6)</td>\n",
       "      <td>f</td>\n",
       "      <td>20</td>\n",
       "      <td>31</td>\n",
       "      <td>p</td>\n",
       "      <td>compact</td>\n",
       "      <td>24.313725</td>\n",
       "      <td>25.5</td>\n",
       "    </tr>\n",
       "    <tr>\n",
       "      <th>4</th>\n",
       "      <td>audi</td>\n",
       "      <td>a4</td>\n",
       "      <td>2.0</td>\n",
       "      <td>2008</td>\n",
       "      <td>4</td>\n",
       "      <td>auto(av)</td>\n",
       "      <td>f</td>\n",
       "      <td>21</td>\n",
       "      <td>30</td>\n",
       "      <td>p</td>\n",
       "      <td>compact</td>\n",
       "      <td>24.705882</td>\n",
       "      <td>25.5</td>\n",
       "    </tr>\n",
       "    <tr>\n",
       "      <th>5</th>\n",
       "      <td>audi</td>\n",
       "      <td>a4</td>\n",
       "      <td>2.8</td>\n",
       "      <td>1999</td>\n",
       "      <td>6</td>\n",
       "      <td>auto(l5)</td>\n",
       "      <td>f</td>\n",
       "      <td>16</td>\n",
       "      <td>26</td>\n",
       "      <td>p</td>\n",
       "      <td>compact</td>\n",
       "      <td>19.809524</td>\n",
       "      <td>21.0</td>\n",
       "    </tr>\n",
       "  </tbody>\n",
       "</table>\n",
       "</div>"
      ],
      "text/plain": [
       "  manufacturer model  displ  year  cyl       trans drv  cty  hwy fl    class  \\\n",
       "1         audi    a4    1.8  1999    4    auto(l5)   f   18   29  p  compact   \n",
       "2         audi    a4    1.8  1999    4  manual(m5)   f   21   29  p  compact   \n",
       "3         audi    a4    2.0  2008    4  manual(m6)   f   20   31  p  compact   \n",
       "4         audi    a4    2.0  2008    4    auto(av)   f   21   30  p  compact   \n",
       "5         audi    a4    2.8  1999    6    auto(l5)   f   16   26  p  compact   \n",
       "\n",
       "         afe  arithmetic_afe  \n",
       "1  22.212766            23.5  \n",
       "2  24.360000            25.0  \n",
       "3  24.313725            25.5  \n",
       "4  24.705882            25.5  \n",
       "5  19.809524            21.0  "
      ]
     },
     "execution_count": 6,
     "metadata": {},
     "output_type": "execute_result"
    }
   ],
   "source": [
    "# Is there a difference in fuel-efficiency in cars from 2008 vs 1999?\n",
    "    # can use harmonic mean bc calculating the rate of something(mpg)\n",
    "    # axis = 1 (row-wise)\n",
    "\n",
    "mpg['afe'] = stats.hmean(mpg[['cty', 'hwy']], axis = 1) #harmonic mean is appropriate here\n",
    "mpg['arithmetic_afe'] = (mpg.cty + mpg.hwy) / 2\n",
    "mpg.head()\n",
    "\n",
    "#could've calculated the arithmetic mean by using: df['avg_mpg'] = (df.cty + df.hwy)/2"
   ]
  },
  {
   "cell_type": "code",
   "execution_count": null,
   "id": "c4ba5564",
   "metadata": {},
   "outputs": [],
   "source": []
  },
  {
   "cell_type": "code",
   "execution_count": 7,
   "id": "d52f7d02",
   "metadata": {},
   "outputs": [],
   "source": [
    "fuel_economy_99 = mpg[mpg.year == 1999].afe\n",
    "fuel_economy_08= mpg[mpg.year == 2008].afe"
   ]
  },
  {
   "cell_type": "code",
   "execution_count": 8,
   "id": "6f48b3d8",
   "metadata": {},
   "outputs": [
    {
     "name": "stdout",
     "output_type": "stream",
     "text": [
      "p (0.764) is > alpha(0.5)\n"
     ]
    }
   ],
   "source": [
    "t,p = stats.ttest_ind(fuel_economy_99, fuel_economy_08) #ttest_ind bc two individual means\n",
    "\n",
    "t,p #is there a difference? (no directionality); p\n",
    "\n",
    "print(f'p ({p:.3f}) is > alpha(0.5)') #bc p is 0.764 which is higher than 0.5, fail to reject null (essentially no diff)"
   ]
  },
  {
   "cell_type": "code",
   "execution_count": 9,
   "id": "cb6897ef",
   "metadata": {},
   "outputs": [
    {
     "name": "stdout",
     "output_type": "stream",
     "text": [
      " p/2(0.000000001) < alpha (0.5)\n"
     ]
    }
   ],
   "source": [
    "# Are compact cars more fuel-efficient than the average car? one sample test, implying directionality by asking if more than, so two tail test\n",
    "\n",
    "compact_fuel_economy = mpg[mpg['class'] == 'compact'].afe #class is a protected word. double brackets needed\n",
    "μ = mpg.afe.mean()\n",
    "\n",
    "t,p = stats.ttest_1samp(compact_fuel_economy, μ) #more fuel efficcient (directionality); p/2\n",
    "t,p\n",
    "print(f' p/2({p/2:.9f}) < alpha (0.5)') #bc p is less than alpha, reject null"
   ]
  },
  {
   "cell_type": "code",
   "execution_count": 10,
   "id": "0decb641",
   "metadata": {},
   "outputs": [
    {
     "name": "stdout",
     "output_type": "stream",
     "text": [
      " p/2(0.0000028) < alpha(0.5)\n"
     ]
    }
   ],
   "source": [
    "# Do manual cars get better gas mileage than automatic cars?\n",
    "\n",
    "auto_fuel_economy = mpg[mpg.trans.str.startswith('a')].afe\n",
    "manual_fuel_economy = mpg[mpg.trans.str.startswith('m')].afe\n",
    "\n",
    "t,p = stats.ttest_ind(manual_fuel_economy, auto_fuel_economy) #better gas mileage (directionality); p/2\n",
    "t,p\n",
    "print(f' p/2({p/2:.7f}) < alpha(0.5)') #because p < alpha reject null"
   ]
  },
  {
   "cell_type": "markdown",
   "id": "2d37cd23",
   "metadata": {},
   "source": [
    "---"
   ]
  },
  {
   "cell_type": "code",
   "execution_count": 17,
   "id": "09fb9ff0",
   "metadata": {},
   "outputs": [],
   "source": [
    "#import os\n",
    "#os.getcwd()"
   ]
  }
 ],
 "metadata": {
  "kernelspec": {
   "display_name": "Python 3 (ipykernel)",
   "language": "python",
   "name": "python3"
  },
  "language_info": {
   "codemirror_mode": {
    "name": "ipython",
    "version": 3
   },
   "file_extension": ".py",
   "mimetype": "text/x-python",
   "name": "python",
   "nbconvert_exporter": "python",
   "pygments_lexer": "ipython3",
   "version": "3.9.7"
  }
 },
 "nbformat": 4,
 "nbformat_minor": 5
}
